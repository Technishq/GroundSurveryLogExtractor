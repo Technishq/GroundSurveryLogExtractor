{
 "cells": [
  {
   "cell_type": "code",
   "execution_count": 37,
   "id": "63c47d81-adf4-4461-a069-93b1b0c69d38",
   "metadata": {},
   "outputs": [],
   "source": [
    "import pandas as pd\n",
    "\n",
    "# Load the CSV file\n",
    "csv_file = 'finalmpmb.csv'\n",
    "df = pd.read_csv(csv_file)\n",
    "\n",
    "# Drop all columns except the specified ones\n",
    "columns_to_keep = ['Week Number', 'Seconds of Week', 'PRN', 'Amplitude']\n",
    "df = df[columns_to_keep]\n",
    "#df.to_csv(\"finalmpmb.csv\", sep=',', index=False, encoding='utf-8')\n",
    "\n",
    "\n",
    "# Print the first few rows\n",
    "#print(\"Head of the file:\")\n",
    "#print(df.head())\n",
    "\n",
    "# Print the last few rows\n",
    "#print(\"\\nTail of the file:\")\n",
    "#print(df.tail())\n"
   ]
  },
  {
   "cell_type": "code",
   "execution_count": 38,
   "id": "b96a25d7-69c6-4b1a-9811-cc20a3ee0118",
   "metadata": {},
   "outputs": [],
   "source": [
    "from datetime import datetime, timedelta\n",
    "\n",
    "# Define the GPS epoch\n",
    "GPS_EPOCH = datetime(1980, 1, 6)\n",
    "\n",
    "def gps_to_utc(week, seconds):\n",
    "    # Calculate the GPS time\n",
    "    gps_time = GPS_EPOCH + timedelta(weeks=week, seconds=seconds)\n",
    "    return gps_time\n",
    "\n",
    "# Apply the conversion to the DataFrame\n",
    "df['UTC Time'] = df.apply(lambda row: gps_to_utc(row['Week Number'], row['Seconds of Week']), axis=1)\n",
    "\n",
    "# Convert 'UTC Time' to a 24-hour time format\n",
    "df['24-hour Time'] = df['UTC Time'].dt.strftime('%H:%M')\n",
    "\n",
    "# Print the first few rows to verify\n",
    "#print(\"Head of the file with 24-hour time format:\")\n",
    "#print(df.head())\n"
   ]
  },
  {
   "cell_type": "code",
   "execution_count": 28,
   "id": "763dc7f8-f52e-497b-bd20-ee67b5d7ae47",
   "metadata": {},
   "outputs": [],
   "source": [
    "# Round the \"Seconds of Week\" column to the nearest integer\n",
    "#df['Seconds of Week'] = df['Seconds of Week'].round().astype(int)\n",
    "\n",
    "# Normalize the \"Seconds of Week\" column by subtracting the first value\n",
    "#first_seconds = df['Seconds of Week'].iloc[0]\n",
    "#df['Seconds of Week'] = df['Seconds of Week'] - first_seconds\n",
    "\n",
    "# Print the first few rows\n",
    "#print(\"Head of the file:\")\n",
    "#print(df.head())\n",
    "\n",
    "# Print the last few rows\n",
    "#print(\"\\nTail of the file:\")\n",
    "#print(df.tail())"
   ]
  },
  {
   "cell_type": "code",
   "execution_count": 39,
   "id": "21e01dbb-9392-4936-b159-4db96d0c9ed8",
   "metadata": {},
   "outputs": [],
   "source": [
    "import numpy as np\n",
    "# Replace zero or very small values of \"Amplitude\" to avoid log10 issues\n",
    "df['Amplitude'] = df['Amplitude'].replace(0, np.nan)\n",
    "df['Amplitude'] = df['Amplitude'].fillna(df['Amplitude'].min() / 2)\n",
    "\n",
    "# Add a new column 'd/u' which is 20log10(Amplitude)\n",
    "df['d/u'] = -1*20 * np.log10(df['Amplitude'])\n",
    "\n",
    "# Print the first few rows\n",
    "#print(\"Head of the file:\")\n",
    "#print(df.head())\n",
    "\n",
    "# Print the last few rows\n",
    "#print(\"\\nTail of the file:\")\n",
    "#print(df.tail())\n"
   ]
  },
  {
   "cell_type": "code",
   "execution_count": 40,
   "id": "53574e03-b9da-46ed-b64f-e5a7f763fcfb",
   "metadata": {},
   "outputs": [
    {
     "data": {
      "text/html": [
       "<iframe\n",
       "    scrolling=\"no\"\n",
       "    width=\"100%\"\n",
       "    height=\"545px\"\n",
       "    src=\"iframe_figures/figure_40.html\"\n",
       "    frameborder=\"0\"\n",
       "    allowfullscreen\n",
       "></iframe>\n"
      ]
     },
     "metadata": {},
     "output_type": "display_data"
    }
   ],
   "source": [
    "import plotly.io as pio\n",
    "pio.renderers.default = \"iframe\"\n",
    "# Ask user to input a specific PRN\n",
    "import plotly.express as px\n",
    "import plotly.graph_objects as go\n",
    "# Plot d/u values against 24-hour time for all PRNs together\n",
    "fig = go.Figure()\n",
    "\n",
    "# Add traces for each PRN\n",
    "for prn in df['PRN'].unique():\n",
    "    group = df[df['PRN'] == prn]\n",
    "    fig.add_trace(go.Scatter(x=group['24-hour Time'], y=group['d/u'], mode='lines', name=f'PRN {prn}'))\n",
    "\n",
    "# Update layout\n",
    "fig.update_layout(\n",
    "    title='d/u values for all PRNs',\n",
    "    xaxis_title='Time (24-hour format)',\n",
    "    yaxis_title='d/u (dB)',\n",
    "    xaxis_tickformat='%H:%M:'\n",
    ")\n",
    "\n",
    "# Show the figure\n",
    "fig.show()\n"
   ]
  },
  {
   "cell_type": "code",
   "execution_count": 43,
   "id": "ca628629-fe94-4f08-93e9-4d3779a23385",
   "metadata": {},
   "outputs": [
    {
     "data": {
      "text/plain": [
       "'\\nfor prn, group in grouped:\\n    print(f\"\\nPRN: {prn}\")\\n    print(\"Head of the group:\")\\n    print(group.head())\\n    print(\"\\nTail of the group:\")\\n    print(group.tail())\\n'"
      ]
     },
     "execution_count": 43,
     "metadata": {},
     "output_type": "execute_result"
    }
   ],
   "source": [
    "#grouped = df.groupby('PRN')\n",
    "grouped = df.sort_values(by=['PRN', '24-hour Time']).reset_index(drop=True)\n",
    "grouped = df.groupby('PRN')\n",
    "\n",
    "# Print the head and tail of each group\n",
    "\"\"\"\n",
    "for prn, group in grouped:\n",
    "    print(f\"\\nPRN: {prn}\")\n",
    "    print(\"Head of the group:\")\n",
    "    print(group.head())\n",
    "    print(\"\\nTail of the group:\")\n",
    "    print(group.tail())\n",
    "\"\"\"    "
   ]
  },
  {
   "cell_type": "code",
   "execution_count": 44,
   "id": "093ee377-42e7-4576-a531-9be008ff22cb",
   "metadata": {
    "jupyter": {
     "source_hidden": true
    }
   },
   "outputs": [],
   "source": [
    "import plotly.io as pio\n",
    "pio.renderers.default = \"iframe\"\n"
   ]
  },
  {
   "cell_type": "code",
   "execution_count": 33,
   "id": "1c95be7a-3555-4ad2-88f7-14a6d024aa65",
   "metadata": {
    "editable": true,
    "slideshow": {
     "slide_type": ""
    },
    "tags": []
   },
   "outputs": [
    {
     "name": "stdin",
     "output_type": "stream",
     "text": [
      "Enter a PRN to plot (e.g., 32):  32\n"
     ]
    },
    {
     "data": {
      "text/html": [
       "<iframe\n",
       "    scrolling=\"no\"\n",
       "    width=\"100%\"\n",
       "    height=\"545px\"\n",
       "    src=\"iframe_figures/figure_33.html\"\n",
       "    frameborder=\"0\"\n",
       "    allowfullscreen\n",
       "></iframe>\n"
      ]
     },
     "metadata": {},
     "output_type": "display_data"
    }
   ],
   "source": [
    "# Ask user to input a specific PRN\n",
    "import plotly.express as px\n",
    "import plotly.graph_objects as go\n",
    "specific_prn = int(input(\"Enter a PRN to plot (e.g., 32): \"))\n",
    "\n",
    "# Plot d/u values against 24-hour time for the specific PRN\n",
    "if specific_prn in grouped.groups:\n",
    "    group = grouped.get_group(specific_prn)\n",
    "    fig = px.line(group, x='24-hour Time', y='d/u', title=f'd/u values for PRN {specific_prn}')\n",
    "    fig.update_layout(\n",
    "        xaxis_title='Time (24-hour format)',\n",
    "        yaxis_title='d/u (dB)',\n",
    "        xaxis_tickformat='%H:%M:%S'\n",
    "    )\n",
    "    fig.show()\n",
    "else:\n",
    "    print(f\"PRN {specific_prn} not found in the dataset.\")\n"
   ]
  },
  {
   "cell_type": "code",
   "execution_count": 45,
   "id": "671c5490-2615-4a5f-b759-b256178f70a0",
   "metadata": {},
   "outputs": [],
   "source": [
    "# Count the number of values below 16\n",
    "count_below_16 = df[\"d/u\"][df[\"d/u\"] < 16].count()\n",
    "\n",
    "# Calculate the total number of values in the column\n",
    "total_values = df[\"d/u\"].count()\n",
    "\n",
    "# Calculate the percentage of values below 16\n",
    "percentage_below_16 = (count_below_16 / total_values) * 100\n",
    "\n"
   ]
  },
  {
   "cell_type": "code",
   "execution_count": 46,
   "id": "46826272-3a5d-4911-90dc-75f1e2aca635",
   "metadata": {
    "jupyter": {
     "source_hidden": true
    }
   },
   "outputs": [],
   "source": [
    "# Count the number of values below 20\n",
    "count_below_20= df[\"d/u\"][df[\"d/u\"] < 20].count()\n",
    "\n",
    "# Calculate the total number of values in the column\n",
    "total_values = df[\"d/u\"].count()\n",
    "\n",
    "# Calculate the percentage of values below 16\n",
    "percentage_below_20 = (count_below_20 / total_values) * 100\n",
    "\n"
   ]
  },
  {
   "cell_type": "code",
   "execution_count": 47,
   "id": "f7c23169-d9af-454e-95a6-c91f498efade",
   "metadata": {
    "jupyter": {
     "source_hidden": true
    }
   },
   "outputs": [
    {
     "name": "stdout",
     "output_type": "stream",
     "text": [
      "Percentage of d/u values below 16: 2.20%\n",
      "Percentage of d/u values below 20: 11.02%\n",
      "Percentage of d/u values >= 20: 88.98%\n"
     ]
    }
   ],
   "source": [
    "# Count the number of values >= 20\n",
    "count_eqgt_20= df[\"d/u\"][df[\"d/u\"] >= 20].count()\n",
    "\n",
    "# Calculate the total number of values in the column\n",
    "total_values = df[\"d/u\"].count()\n",
    "\n",
    "# Calculate the percentage of values below 16\n",
    "percentage_eqgt_20 = (count_eqgt_20 / total_values) * 100\n",
    "print(f\"Percentage of d/u values below 16: {percentage_below_16:.2f}%\")\n",
    "print(f\"Percentage of d/u values below 20: {percentage_below_20:.2f}%\")\n",
    "print(f\"Percentage of d/u values >= 20: {percentage_eqgt_20:.2f}%\")\n"
   ]
  },
  {
   "cell_type": "code",
   "execution_count": null,
   "id": "53111812-00b4-47a9-af24-61cac16ce8ea",
   "metadata": {
    "jupyter": {
     "source_hidden": true
    }
   },
   "outputs": [],
   "source": []
  },
  {
   "cell_type": "code",
   "execution_count": null,
   "id": "4035181a-4b60-4831-abc5-3ce04bd0a847",
   "metadata": {
    "jupyter": {
     "source_hidden": true
    }
   },
   "outputs": [],
   "source": []
  },
  {
   "cell_type": "code",
   "execution_count": null,
   "id": "be08c62a-7e27-40e5-a9e0-e327de66b5ff",
   "metadata": {
    "jupyter": {
     "source_hidden": true
    }
   },
   "outputs": [],
   "source": []
  },
  {
   "cell_type": "code",
   "execution_count": null,
   "id": "0d50a79a-97d1-4807-b405-0e9a579618fe",
   "metadata": {
    "jupyter": {
     "source_hidden": true
    }
   },
   "outputs": [],
   "source": []
  }
 ],
 "metadata": {
  "kernelspec": {
   "display_name": "Python 3 (ipykernel)",
   "language": "python",
   "name": "python3"
  },
  "language_info": {
   "codemirror_mode": {
    "name": "ipython",
    "version": 3
   },
   "file_extension": ".py",
   "mimetype": "text/x-python",
   "name": "python",
   "nbconvert_exporter": "python",
   "pygments_lexer": "ipython3",
   "version": "3.12.4"
  }
 },
 "nbformat": 4,
 "nbformat_minor": 5
}
