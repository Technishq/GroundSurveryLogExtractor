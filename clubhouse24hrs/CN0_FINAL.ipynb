{
 "cells": [
  {
   "cell_type": "code",
   "execution_count": 1,
   "id": "815ebdf2-0f7f-4ad4-87db-0ab31108f50b",
   "metadata": {},
   "outputs": [
    {
     "name": "stdout",
     "output_type": "stream",
     "text": [
      "Head of the file:\n",
      "   week  seconds  prn   C/No\n",
      "0   267   119987    5 -2.554\n",
      "1   267   119988    5 -2.413\n",
      "2   267   119989    5 -2.194\n",
      "3   267   119990    5 -1.955\n",
      "4   267   119991    5 -2.025\n",
      "\n",
      "Tail of the file:\n",
      "       week  seconds  prn   C/No\n",
      "86378   267   206384   11 -0.369\n",
      "86379   267   206385   11 -0.544\n",
      "86380   267   206386   11 -0.638\n",
      "86381   267   206387   11 -0.555\n",
      "86382   267   206388   11 -0.586\n"
     ]
    }
   ],
   "source": [
    "import pandas as pd\n",
    "\n",
    "# Load the CSV file\n",
    "csv_file = 'clubhouse24hrs_etsa.csv'\n",
    "df = pd.read_csv(csv_file)\n",
    "\n",
    "\n",
    "\n",
    "# Print the first few rows\n",
    "print(\"Head of the file:\")\n",
    "print(df.head())\n",
    "\n",
    "# Print the last few rows\n",
    "print(\"\\nTail of the file:\")\n",
    "print(df.tail())\n"
   ]
  },
  {
   "cell_type": "code",
   "execution_count": 2,
   "id": "842a88aa-969a-46ff-80e0-fc04ad10a294",
   "metadata": {},
   "outputs": [
    {
     "name": "stdout",
     "output_type": "stream",
     "text": [
      "Head of the file:\n",
      "   week  seconds  prn   C/No\n",
      "0   267   119987    5 -2.554\n",
      "1   267   119988    5 -2.413\n",
      "2   267   119989    5 -2.194\n",
      "3   267   119990    5 -1.955\n",
      "4   267   119991    5 -2.025\n",
      "\n",
      "Tail of the file:\n",
      "       week  seconds  prn   C/No\n",
      "86378   267   206384   11 -0.369\n",
      "86379   267   206385   11 -0.544\n",
      "86380   267   206386   11 -0.638\n",
      "86381   267   206387   11 -0.555\n",
      "86382   267   206388   11 -0.586\n"
     ]
    }
   ],
   "source": [
    "# Drop all columns except the specified ones\n",
    "columns_to_keep = ['week', 'seconds', 'prn', 'C/No']\n",
    "df = df[columns_to_keep]\n",
    "\n",
    "# Print the first few rows\n",
    "print(\"Head of the file:\")\n",
    "print(df.head())\n",
    "\n",
    "# Print the last few rows\n",
    "print(\"\\nTail of the file:\")\n",
    "print(df.tail())"
   ]
  },
  {
   "cell_type": "code",
   "execution_count": 3,
   "id": "eab99c3c-eb6c-435a-9d40-462ef408b868",
   "metadata": {},
   "outputs": [
    {
     "name": "stdout",
     "output_type": "stream",
     "text": [
      "Head of the file with 24-hour time format:\n",
      "   week  seconds  prn   C/No            UTC Time 24-hour Time\n",
      "0   267   119987    5 -2.554 1985-02-18 09:19:47     09:19:47\n",
      "1   267   119988    5 -2.413 1985-02-18 09:19:48     09:19:48\n",
      "2   267   119989    5 -2.194 1985-02-18 09:19:49     09:19:49\n",
      "3   267   119990    5 -1.955 1985-02-18 09:19:50     09:19:50\n",
      "4   267   119991    5 -2.025 1985-02-18 09:19:51     09:19:51\n"
     ]
    }
   ],
   "source": [
    "from datetime import datetime, timedelta\n",
    "\n",
    "# Define the GPS epoch\n",
    "GPS_EPOCH = datetime(1980, 1, 6)\n",
    "\n",
    "def gps_to_utc(week, seconds):\n",
    "    # Calculate the GPS time\n",
    "    gps_time = GPS_EPOCH + timedelta(weeks=week, seconds=seconds)\n",
    "    return gps_time\n",
    "\n",
    "# Apply the conversion to the DataFrame\n",
    "df['UTC Time'] = df.apply(lambda row: gps_to_utc(row['week'], row['seconds']), axis=1)\n",
    "\n",
    "# Convert 'UTC Time' to a 24-hour time format\n",
    "df['24-hour Time'] = df['UTC Time'].dt.strftime('%H:%M:%S')\n",
    "\n",
    "# Print the first few rows to verify\n",
    "print(\"Head of the file with 24-hour time format:\")\n",
    "print(df.head())"
   ]
  },
  {
   "cell_type": "code",
   "execution_count": 4,
   "id": "c528bff9-df21-4e21-b4f2-8e54ac9121ba",
   "metadata": {},
   "outputs": [
    {
     "data": {
      "text/html": [
       "<iframe\n",
       "    scrolling=\"no\"\n",
       "    width=\"100%\"\n",
       "    height=\"545px\"\n",
       "    src=\"iframe_figures/figure_4.html\"\n",
       "    frameborder=\"0\"\n",
       "    allowfullscreen\n",
       "></iframe>\n"
      ]
     },
     "metadata": {},
     "output_type": "display_data"
    }
   ],
   "source": [
    "import plotly.io as pio\n",
    "pio.renderers.default = \"iframe\"\n",
    "# Ask user to input a specific PRN\n",
    "import plotly.express as px\n",
    "import plotly.graph_objects as go\n",
    "# Plot d/u values against 24-hour time for all PRNs together\n",
    "fig = go.Figure()\n",
    "\n",
    "# Add traces for each PRN\n",
    "for prn in df['prn'].unique():\n",
    "    group = df[df['prn'] == prn]\n",
    "    fig.add_trace(go.Scatter(x=group['24-hour Time'], y=group['C/No'], mode='lines', name=f'PRN {prn}'))\n",
    "\n",
    "# Update layout\n",
    "fig.update_layout(\n",
    "    title='d/u values for all PRNs',\n",
    "    xaxis_title='Time (24-hour format)',\n",
    "    yaxis_title='C/N0',\n",
    "    xaxis_tickformat='%H:%M:%S'\n",
    ")\n",
    "\n",
    "# Show the figure\n",
    "fig.show()\n"
   ]
  },
  {
   "cell_type": "code",
   "execution_count": 5,
   "id": "6886d09f-8cb0-479b-8b14-f123a8f410c1",
   "metadata": {},
   "outputs": [
    {
     "name": "stdout",
     "output_type": "stream",
     "text": [
      "\n",
      "PRN: 0\n",
      "Head of the group:\n",
      "       week  seconds  prn  C/No            UTC Time 24-hour Time\n",
      "10970   267   130967    0   0.0 1985-02-18 12:22:47     12:22:47\n",
      "10971   267   130968    0   0.0 1985-02-18 12:22:48     12:22:48\n",
      "10972   267   130969    0   0.0 1985-02-18 12:22:49     12:22:49\n",
      "10973   267   130970    0   0.0 1985-02-18 12:22:50     12:22:50\n",
      "10974   267   130971    0   0.0 1985-02-18 12:22:51     12:22:51\n",
      "\n",
      "Tail of the group:\n",
      "       week  seconds  prn  C/No            UTC Time 24-hour Time\n",
      "62084   267   182090    0   0.0 1985-02-19 02:34:50     02:34:50\n",
      "62085   267   182091    0   0.0 1985-02-19 02:34:51     02:34:51\n",
      "62086   267   182092    0   0.0 1985-02-19 02:34:52     02:34:52\n",
      "62087   267   182093    0   0.0 1985-02-19 02:34:53     02:34:53\n",
      "62088   267   182094    0   0.0 1985-02-19 02:34:54     02:34:54\n",
      "\n",
      "PRN: 5\n",
      "Head of the group:\n",
      "   week  seconds  prn   C/No            UTC Time 24-hour Time\n",
      "0   267   119987    5 -2.554 1985-02-18 09:19:47     09:19:47\n",
      "1   267   119988    5 -2.413 1985-02-18 09:19:48     09:19:48\n",
      "2   267   119989    5 -2.194 1985-02-18 09:19:49     09:19:49\n",
      "3   267   119990    5 -1.955 1985-02-18 09:19:50     09:19:50\n",
      "4   267   119991    5 -2.025 1985-02-18 09:19:51     09:19:51\n",
      "\n",
      "Tail of the group:\n",
      "       week  seconds  prn  C/No            UTC Time 24-hour Time\n",
      "10965   267   130962    5   0.0 1985-02-18 12:22:42     12:22:42\n",
      "10966   267   130963    5   0.0 1985-02-18 12:22:43     12:22:43\n",
      "10967   267   130964    5   0.0 1985-02-18 12:22:44     12:22:44\n",
      "10968   267   130965    5   0.0 1985-02-18 12:22:45     12:22:45\n",
      "10969   267   130966    5   0.0 1985-02-18 12:22:46     12:22:46\n",
      "\n",
      "PRN: 11\n",
      "Head of the group:\n",
      "       week  seconds  prn  C/No            UTC Time 24-hour Time\n",
      "62089   267   182095   11   0.0 1985-02-19 02:34:55     02:34:55\n",
      "62090   267   182096   11   0.0 1985-02-19 02:34:56     02:34:56\n",
      "62091   267   182097   11   0.0 1985-02-19 02:34:57     02:34:57\n",
      "62092   267   182098   11   0.0 1985-02-19 02:34:58     02:34:58\n",
      "62093   267   182099   11   0.0 1985-02-19 02:34:59     02:34:59\n",
      "\n",
      "Tail of the group:\n",
      "       week  seconds  prn   C/No            UTC Time 24-hour Time\n",
      "86378   267   206384   11 -0.369 1985-02-19 09:19:44     09:19:44\n",
      "86379   267   206385   11 -0.544 1985-02-19 09:19:45     09:19:45\n",
      "86380   267   206386   11 -0.638 1985-02-19 09:19:46     09:19:46\n",
      "86381   267   206387   11 -0.555 1985-02-19 09:19:47     09:19:47\n",
      "86382   267   206388   11 -0.586 1985-02-19 09:19:48     09:19:48\n",
      "\n",
      "PRN: 21\n",
      "Head of the group:\n",
      "       week  seconds  prn  C/No            UTC Time 24-hour Time\n",
      "43609   267   163615   21   0.0 1985-02-18 21:26:55     21:26:55\n",
      "43610   267   163616   21   0.0 1985-02-18 21:26:56     21:26:56\n",
      "43611   267   163617   21   0.0 1985-02-18 21:26:57     21:26:57\n",
      "43612   267   163618   21   0.0 1985-02-18 21:26:58     21:26:58\n",
      "43613   267   163619   21   0.0 1985-02-18 21:26:59     21:26:59\n",
      "\n",
      "Tail of the group:\n",
      "       week  seconds  prn  C/No            UTC Time 24-hour Time\n",
      "61694   267   181700   21   0.0 1985-02-19 02:28:20     02:28:20\n",
      "61695   267   181701   21   0.0 1985-02-19 02:28:21     02:28:21\n",
      "61696   267   181702   21   0.0 1985-02-19 02:28:22     02:28:22\n",
      "61697   267   181703   21   0.0 1985-02-19 02:28:23     02:28:23\n",
      "61698   267   181704   21   0.0 1985-02-19 02:28:24     02:28:24\n",
      "\n",
      "PRN: 28\n",
      "Head of the group:\n",
      "       week  seconds  prn  C/No            UTC Time 24-hour Time\n",
      "13078   267   133075   28   0.0 1985-02-18 12:57:55     12:57:55\n",
      "13079   267   133076   28   0.0 1985-02-18 12:57:56     12:57:56\n",
      "13080   267   133077   28   0.0 1985-02-18 12:57:57     12:57:57\n",
      "13081   267   133078   28   0.0 1985-02-18 12:57:58     12:57:58\n",
      "13082   267   133079   28   0.0 1985-02-18 12:57:59     12:57:59\n",
      "\n",
      "Tail of the group:\n",
      "       week  seconds  prn  C/No            UTC Time 24-hour Time\n",
      "39552   267   159558   28   0.0 1985-02-18 20:19:18     20:19:18\n",
      "39553   267   159559   28   0.0 1985-02-18 20:19:19     20:19:19\n",
      "39554   267   159560   28   0.0 1985-02-18 20:19:20     20:19:20\n",
      "39555   267   159561   28   0.0 1985-02-18 20:19:21     20:19:21\n",
      "39556   267   159562   28   0.0 1985-02-18 20:19:22     20:19:22\n"
     ]
    }
   ],
   "source": [
    "grouped = df.groupby('prn')\n",
    "\n",
    "# Print the head and tail of each group\n",
    "for prn, group in grouped:\n",
    "    print(f\"\\nPRN: {prn}\")\n",
    "    print(\"Head of the group:\")\n",
    "    print(group.head())\n",
    "    print(\"\\nTail of the group:\")\n",
    "    print(group.tail())"
   ]
  },
  {
   "cell_type": "code",
   "execution_count": 7,
   "id": "66252a63-1d2b-400f-b3b1-13131dce1010",
   "metadata": {},
   "outputs": [
    {
     "name": "stdin",
     "output_type": "stream",
     "text": [
      "Enter a PRN to plot (e.g., 32):  28\n"
     ]
    },
    {
     "data": {
      "text/html": [
       "<iframe\n",
       "    scrolling=\"no\"\n",
       "    width=\"100%\"\n",
       "    height=\"545px\"\n",
       "    src=\"iframe_figures/figure_7.html\"\n",
       "    frameborder=\"0\"\n",
       "    allowfullscreen\n",
       "></iframe>\n"
      ]
     },
     "metadata": {},
     "output_type": "display_data"
    }
   ],
   "source": [
    "# Ask user to input a specific PRN\n",
    "import plotly.express as px\n",
    "import plotly.graph_objects as go\n",
    "specific_prn = int(input(\"Enter a PRN to plot (e.g., 32): \"))\n",
    "\n",
    "# Plot d/u values against 24-hour time for the specific PRN\n",
    "if specific_prn in grouped.groups:\n",
    "    group = grouped.get_group(specific_prn)\n",
    "    fig = px.line(group, x='24-hour Time', y='C/No', title=f'd/u values for PRN {specific_prn}')\n",
    "    fig.update_layout(\n",
    "        xaxis_title='Time (24-hour format)',\n",
    "        yaxis_title='C/N0',\n",
    "        xaxis_tickformat='%H:%M:%S'\n",
    "    )\n",
    "    fig.show()\n",
    "else:\n",
    "    print(f\"PRN {specific_prn} not found in the dataset.\")\n"
   ]
  },
  {
   "cell_type": "code",
   "execution_count": null,
   "id": "c3da8648-1329-437a-99be-33288efc6462",
   "metadata": {},
   "outputs": [],
   "source": []
  }
 ],
 "metadata": {
  "kernelspec": {
   "display_name": "Python 3 (ipykernel)",
   "language": "python",
   "name": "python3"
  },
  "language_info": {
   "codemirror_mode": {
    "name": "ipython",
    "version": 3
   },
   "file_extension": ".py",
   "mimetype": "text/x-python",
   "name": "python",
   "nbconvert_exporter": "python",
   "pygments_lexer": "ipython3",
   "version": "3.12.4"
  }
 },
 "nbformat": 4,
 "nbformat_minor": 5
}
