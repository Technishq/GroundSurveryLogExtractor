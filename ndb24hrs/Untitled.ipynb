{
 "cells": [
  {
   "cell_type": "code",
   "execution_count": null,
   "id": "bde86cb2-d56b-4e0e-9626-7ccbb815c9bf",
   "metadata": {},
   "outputs": [],
   "source": [
    "import pandas as pd\n",
    "\n",
    "# Load the CSV file\n",
    "csv_file1 = 'rawdata/etsb.csv'\n",
    "csv_file2 = 'finalmpmb.csv'\n",
    "df1 = pd.read_csv(csv_file1)\n",
    "\n",
    "\n",
    "\n",
    "# Print the first few rows\n",
    "print(\"Head of the file:\")\n",
    "print(df1.head())\n",
    "\n",
    "# Print the last few rows\n",
    "print(\"\\nTail of the file:\")\n",
    "print(df1.tail())\n",
    "\n",
    "\n",
    "\n",
    "df2 = pd.read_csv(csv_file2)\n",
    "\n",
    "# Drop all columns except the specified ones\n",
    "columns_to_keep = ['Week Number', 'Seconds of Week', 'PRN', 'Amplitude']\n",
    "df2 = df2[columns_to_keep]\n",
    "#df.to_csv(\"finalmpmb.csv\", sep=',', index=False, encoding='utf-8')\n",
    "\n",
    "\n",
    "# Print the first few rows\n",
    "print(\"Head of the file:\")\n",
    "print(df2.head())\n",
    "\n",
    "# Print the last few rows\n",
    "print(\"\\nTail of the file:\")\n",
    "print(df2.tail())\n",
    "\n"
   ]
  }
 ],
 "metadata": {
  "kernelspec": {
   "display_name": "Python 3 (ipykernel)",
   "language": "python",
   "name": "python3"
  },
  "language_info": {
   "codemirror_mode": {
    "name": "ipython",
    "version": 3
   },
   "file_extension": ".py",
   "mimetype": "text/x-python",
   "name": "python",
   "nbconvert_exporter": "python",
   "pygments_lexer": "ipython3",
   "version": "3.12.4"
  }
 },
 "nbformat": 4,
 "nbformat_minor": 5
}
