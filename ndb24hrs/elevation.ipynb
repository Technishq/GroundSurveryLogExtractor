{
 "cells": [
  {
   "cell_type": "code",
   "execution_count": 1,
   "id": "de4391b2-25c9-4968-b750-8b1ad1cdf0f0",
   "metadata": {},
   "outputs": [
    {
     "name": "stdout",
     "output_type": "stream",
     "text": [
      "Head of the file:\n",
      "   week  seconds  prn  elevation\n",
      "0   267   215903   10        0.0\n",
      "1   267   215903   10        0.0\n",
      "2   267   215904   10        0.0\n",
      "3   267   215905   10        0.0\n",
      "4   267   215906   10        0.0\n",
      "\n",
      "Tail of the file:\n",
      "       week  seconds  prn  elevation\n",
      "86401   267   302298   32      23.21\n",
      "86402   267   302299   32      23.21\n",
      "86403   267   302300   32      23.22\n",
      "86404   267   302301   32      23.23\n",
      "86405   267   302302   32      23.23\n"
     ]
    }
   ],
   "source": [
    "import pandas as pd\n",
    "\n",
    "# Load the CSV file\n",
    "csv_file = 'ndb24hrs_sata_data.csv'\n",
    "df = pd.read_csv(csv_file)\n",
    "\n",
    "# Print the first few rows\n",
    "print(\"Head of the file:\")\n",
    "print(df.head())\n",
    "\n",
    "# Print the last few rows\n",
    "print(\"\\nTail of the file:\")\n",
    "print(df.tail())\n"
   ]
  },
  {
   "cell_type": "code",
   "execution_count": 2,
   "id": "f1d8d7a5-be03-44e1-b755-f61f84108deb",
   "metadata": {},
   "outputs": [],
   "source": [
    "# Drop all columns except the specified ones\n",
    "columns_to_keep = ['week', 'seconds', 'prn', 'elevation']\n",
    "df = df[columns_to_keep]\n",
    "df = df[df['seconds'] >= 0]\n"
   ]
  },
  {
   "cell_type": "code",
   "execution_count": 3,
   "id": "cb5b368f-376c-449a-b066-d704c9a0b4e5",
   "metadata": {},
   "outputs": [
    {
     "name": "stdout",
     "output_type": "stream",
     "text": [
      "Head of the file with 24-hour time format:\n",
      "   week  seconds  prn  elevation            UTC Time 24-hour Time\n",
      "0   267   215903   10        0.0 1985-02-19 11:58:23     11:58:23\n",
      "1   267   215903   10        0.0 1985-02-19 11:58:23     11:58:23\n",
      "2   267   215904   10        0.0 1985-02-19 11:58:24     11:58:24\n",
      "3   267   215905   10        0.0 1985-02-19 11:58:25     11:58:25\n",
      "4   267   215906   10        0.0 1985-02-19 11:58:26     11:58:26\n"
     ]
    }
   ],
   "source": [
    "from datetime import datetime, timedelta\n",
    "\n",
    "# Define the GPS epoch\n",
    "GPS_EPOCH = datetime(1980, 1, 6)\n",
    "\n",
    "def gps_to_utc(week, seconds):\n",
    "    # Calculate the GPS time\n",
    "    gps_time = GPS_EPOCH + timedelta(weeks=week, seconds=seconds)\n",
    "    return gps_time\n",
    "\n",
    "# Apply the conversion to the DataFrame\n",
    "df['UTC Time'] = df.apply(lambda row: gps_to_utc(row['week'], row['seconds']), axis=1)\n",
    "\n",
    "# Convert 'UTC Time' to a 24-hour time format\n",
    "df['24-hour Time'] = df['UTC Time'].dt.strftime('%H:%M:%S')\n",
    "\n",
    "# Print the first few rows to verify\n",
    "print(\"Head of the file with 24-hour time format:\")\n",
    "print(df.head())\n"
   ]
  },
  {
   "cell_type": "code",
   "execution_count": 4,
   "id": "b4bd110b-23c8-47e9-974d-f65ea2d7ae71",
   "metadata": {},
   "outputs": [
    {
     "data": {
      "text/html": [
       "<iframe\n",
       "    scrolling=\"no\"\n",
       "    width=\"100%\"\n",
       "    height=\"545px\"\n",
       "    src=\"iframe_figures/figure_4.html\"\n",
       "    frameborder=\"0\"\n",
       "    allowfullscreen\n",
       "></iframe>\n"
      ]
     },
     "metadata": {},
     "output_type": "display_data"
    }
   ],
   "source": [
    "import plotly.io as pio\n",
    "pio.renderers.default = \"iframe\"\n",
    "# Ask user to input a specific PRN\n",
    "import plotly.express as px\n",
    "import plotly.graph_objects as go\n",
    "# Plot d/u values against 24-hour time for all PRNs together\n",
    "fig = go.Figure()\n",
    "\n",
    "# Add traces for each PRN\n",
    "for prn in df['prn'].unique():\n",
    "    group = df[df['prn'] == prn]\n",
    "    fig.add_trace(go.Scatter(x=group['24-hour Time'], y=group['elevation'], mode='lines', name=f'PRN {prn}'))\n",
    "\n",
    "# Update layout\n",
    "fig.update_layout(\n",
    "    title='d/u values for all PRNs',\n",
    "    xaxis_title='Time (24-hour format)',\n",
    "    yaxis_title='Elevation',\n",
    "    xaxis_tickformat='%H:%M:%S'\n",
    ")\n",
    "\n",
    "# Show the figure\n",
    "fig.show()\n"
   ]
  },
  {
   "cell_type": "code",
   "execution_count": 5,
   "id": "898162bf-335b-4a90-a8a8-f6a9de81814b",
   "metadata": {},
   "outputs": [
    {
     "name": "stdout",
     "output_type": "stream",
     "text": [
      "\n",
      "PRN: 10\n",
      "Head of the group:\n",
      "   week  seconds  prn  elevation            UTC Time 24-hour Time\n",
      "0   267   215903   10        0.0 1985-02-19 11:58:23     11:58:23\n",
      "1   267   215903   10        0.0 1985-02-19 11:58:23     11:58:23\n",
      "2   267   215904   10        0.0 1985-02-19 11:58:24     11:58:24\n",
      "3   267   215905   10        0.0 1985-02-19 11:58:25     11:58:25\n",
      "4   267   215906   10        0.0 1985-02-19 11:58:26     11:58:26\n",
      "\n",
      "Tail of the group:\n",
      "       week  seconds  prn  elevation            UTC Time 24-hour Time\n",
      "83407   267   299304   10      12.58 1985-02-20 11:08:24     11:08:24\n",
      "83408   267   299305   10      12.58 1985-02-20 11:08:25     11:08:25\n",
      "83409   267   299306   10      12.59 1985-02-20 11:08:26     11:08:26\n",
      "83410   267   299307   10      12.59 1985-02-20 11:08:27     11:08:27\n",
      "83411   267   299308   10      12.59 1985-02-20 11:08:28     11:08:28\n",
      "\n",
      "PRN: 11\n",
      "Head of the group:\n",
      "       week  seconds  prn  elevation            UTC Time 24-hour Time\n",
      "53100   267   268999   11       9.89 1985-02-20 02:43:19     02:43:19\n",
      "53103   267   269002   11       9.91 1985-02-20 02:43:22     02:43:22\n",
      "53104   267   269003   11       9.91 1985-02-20 02:43:23     02:43:23\n",
      "53105   267   269004   11       9.92 1985-02-20 02:43:24     02:43:24\n",
      "53106   267   269005   11       9.93 1985-02-20 02:43:25     02:43:25\n",
      "\n",
      "Tail of the group:\n",
      "       week  seconds  prn  elevation            UTC Time 24-hour Time\n",
      "80596   267   296493   11       7.19 1985-02-20 10:21:33     10:21:33\n",
      "80597   267   296494   11       7.18 1985-02-20 10:21:34     10:21:34\n",
      "80598   267   296495   11       7.18 1985-02-20 10:21:35     10:21:35\n",
      "80599   267   296496   11       7.18 1985-02-20 10:21:36     10:21:36\n",
      "80600   267   296497   11       7.17 1985-02-20 10:21:37     10:21:37\n",
      "\n",
      "PRN: 13\n",
      "Head of the group:\n",
      "       week  seconds  prn  elevation            UTC Time 24-hour Time\n",
      "43684   267   259583   13        0.0 1985-02-20 00:06:23     00:06:23\n",
      "43685   267   259584   13        0.0 1985-02-20 00:06:24     00:06:24\n",
      "43686   267   259585   13        0.0 1985-02-20 00:06:25     00:06:25\n",
      "43687   267   259586   13        0.0 1985-02-20 00:06:26     00:06:26\n",
      "43688   267   259587   13        0.0 1985-02-20 00:06:27     00:06:27\n",
      "\n",
      "Tail of the group:\n",
      "       week  seconds  prn  elevation            UTC Time 24-hour Time\n",
      "81289   267   297186   13      39.74 1985-02-20 10:33:06     10:33:06\n",
      "81290   267   297187   13      39.73 1985-02-20 10:33:07     10:33:07\n",
      "81291   267   297188   13      39.73 1985-02-20 10:33:08     10:33:08\n",
      "81292   267   297189   13      39.72 1985-02-20 10:33:09     10:33:09\n",
      "81293   267   297190   13      39.71 1985-02-20 10:33:10     10:33:10\n",
      "\n",
      "PRN: 20\n",
      "Head of the group:\n",
      "       week  seconds  prn  elevation            UTC Time 24-hour Time\n",
      "57329   267   273228   20        0.0 1985-02-20 03:53:48     03:53:48\n",
      "57330   267   273229   20        0.0 1985-02-20 03:53:49     03:53:49\n",
      "57331   267   273230   20        0.0 1985-02-20 03:53:50     03:53:50\n",
      "57332   267   273231   20        0.0 1985-02-20 03:53:51     03:53:51\n",
      "57333   267   273232   20        0.0 1985-02-20 03:53:52     03:53:52\n",
      "\n",
      "Tail of the group:\n",
      "       week  seconds  prn  elevation            UTC Time 24-hour Time\n",
      "79802   267   295699   20      14.46 1985-02-20 10:08:19     10:08:19\n",
      "79803   267   295700   20      14.46 1985-02-20 10:08:20     10:08:20\n",
      "79804   267   295701   20      14.45 1985-02-20 10:08:21     10:08:21\n",
      "79805   267   295702   20      14.45 1985-02-20 10:08:22     10:08:22\n",
      "79806   267   295703   20      14.45 1985-02-20 10:08:23     10:08:23\n",
      "\n",
      "PRN: 21\n",
      "Head of the group:\n",
      "       week  seconds  prn  elevation            UTC Time 24-hour Time\n",
      "41123   267   257023   21      41.37 1985-02-19 23:23:43     23:23:43\n",
      "41124   267   257024   21      41.37 1985-02-19 23:23:44     23:23:44\n",
      "41125   267   257025   21      41.37 1985-02-19 23:23:45     23:23:45\n",
      "41126   267   257026   21      41.38 1985-02-19 23:23:46     23:23:46\n",
      "41127   267   257027   21      41.38 1985-02-19 23:23:47     23:23:47\n",
      "\n",
      "Tail of the group:\n",
      "       week  seconds  prn  elevation            UTC Time 24-hour Time\n",
      "43679   267   259578   21      45.24 1985-02-20 00:06:18     00:06:18\n",
      "43680   267   259579   21      45.24 1985-02-20 00:06:19     00:06:19\n",
      "43681   267   259580   21      45.24 1985-02-20 00:06:20     00:06:20\n",
      "43682   267   259581   21      45.24 1985-02-20 00:06:21     00:06:21\n",
      "43683   267   259582   21      45.23 1985-02-20 00:06:22     00:06:22\n",
      "\n",
      "PRN: 27\n",
      "Head of the group:\n",
      "       week  seconds  prn  elevation            UTC Time 24-hour Time\n",
      "22972   267   238873   27       7.02 1985-02-19 18:21:13     18:21:13\n",
      "22973   267   238874   27       7.02 1985-02-19 18:21:14     18:21:14\n",
      "22974   267   238875   27       7.03 1985-02-19 18:21:15     18:21:15\n",
      "22975   267   238876   27       7.03 1985-02-19 18:21:16     18:21:16\n",
      "22976   267   238877   27       7.04 1985-02-19 18:21:17     18:21:17\n",
      "\n",
      "Tail of the group:\n",
      "       week  seconds  prn  elevation            UTC Time 24-hour Time\n",
      "41118   267   257018   27      11.96 1985-02-19 23:23:38     23:23:38\n",
      "41119   267   257019   27      11.95 1985-02-19 23:23:39     23:23:39\n",
      "41120   267   257020   27      11.94 1985-02-19 23:23:40     23:23:40\n",
      "41121   267   257021   27      11.94 1985-02-19 23:23:41     23:23:41\n",
      "41122   267   257022   27      11.93 1985-02-19 23:23:42     23:23:42\n",
      "\n",
      "PRN: 28\n",
      "Head of the group:\n",
      "       week  seconds  prn  elevation            UTC Time 24-hour Time\n",
      "22424   267   238325   28      33.80 1985-02-19 18:12:05     18:12:05\n",
      "22425   267   238326   28      33.80 1985-02-19 18:12:06     18:12:06\n",
      "22426   267   238327   28      33.79 1985-02-19 18:12:07     18:12:07\n",
      "22427   267   238328   28      33.79 1985-02-19 18:12:08     18:12:08\n",
      "22428   267   238329   28      33.78 1985-02-19 18:12:09     18:12:09\n",
      "\n",
      "Tail of the group:\n",
      "       week  seconds  prn  elevation            UTC Time 24-hour Time\n",
      "22967   267   238868   28      31.24 1985-02-19 18:21:08     18:21:08\n",
      "22968   267   238869   28      31.23 1985-02-19 18:21:09     18:21:09\n",
      "22969   267   238870   28      31.23 1985-02-19 18:21:10     18:21:10\n",
      "22970   267   238871   28      31.22 1985-02-19 18:21:11     18:21:11\n",
      "22971   267   238872   28      31.22 1985-02-19 18:21:12     18:21:12\n",
      "\n",
      "PRN: 32\n",
      "Head of the group:\n",
      "       week  seconds  prn  elevation            UTC Time 24-hour Time\n",
      "83412   267   299309   32        0.0 1985-02-20 11:08:29     11:08:29\n",
      "83413   267   299310   32        0.0 1985-02-20 11:08:30     11:08:30\n",
      "83414   267   299311   32        0.0 1985-02-20 11:08:31     11:08:31\n",
      "83415   267   299312   32        0.0 1985-02-20 11:08:32     11:08:32\n",
      "83416   267   299313   32        0.0 1985-02-20 11:08:33     11:08:33\n",
      "\n",
      "Tail of the group:\n",
      "       week  seconds  prn  elevation            UTC Time 24-hour Time\n",
      "86401   267   302298   32      23.21 1985-02-20 11:58:18     11:58:18\n",
      "86402   267   302299   32      23.21 1985-02-20 11:58:19     11:58:19\n",
      "86403   267   302300   32      23.22 1985-02-20 11:58:20     11:58:20\n",
      "86404   267   302301   32      23.23 1985-02-20 11:58:21     11:58:21\n",
      "86405   267   302302   32      23.23 1985-02-20 11:58:22     11:58:22\n"
     ]
    }
   ],
   "source": [
    "grouped = df.groupby('prn')\n",
    "\n",
    "# Print the head and tail of each group\n",
    "for prn, group in grouped:\n",
    "    print(f\"\\nPRN: {prn}\")\n",
    "    print(\"Head of the group:\")\n",
    "    print(group.head())\n",
    "    print(\"\\nTail of the group:\")\n",
    "    print(group.tail())"
   ]
  },
  {
   "cell_type": "code",
   "execution_count": 6,
   "id": "d59bbd84-7634-4429-b538-e44eaec1c986",
   "metadata": {},
   "outputs": [
    {
     "name": "stdin",
     "output_type": "stream",
     "text": [
      "Enter a PRN to plot (e.g., 32):  6\n"
     ]
    },
    {
     "name": "stdout",
     "output_type": "stream",
     "text": [
      "PRN 6 not found in the dataset.\n"
     ]
    }
   ],
   "source": [
    "# Ask user to input a specific PRN\n",
    "import plotly.express as px\n",
    "import plotly.graph_objects as go\n",
    "specific_prn = int(input(\"Enter a PRN to plot (e.g., 32): \"))\n",
    "\n",
    "# Plot d/u values against 24-hour time for the specific PRN\n",
    "if specific_prn in grouped.groups:\n",
    "    group = grouped.get_group(specific_prn)\n",
    "    fig = px.line(group, x='24-hour Time', y='elevation', title=f'd/u values for PRN {specific_prn}')\n",
    "    fig.update_layout(\n",
    "        xaxis_title='Time (24-hour format)',\n",
    "        yaxis_title='Elevation',\n",
    "        xaxis_tickformat='%H:%M:%S'\n",
    "    )\n",
    "    fig.show()\n",
    "else:\n",
    "    print(f\"PRN {specific_prn} not found in the dataset.\")\n"
   ]
  },
  {
   "cell_type": "code",
   "execution_count": null,
   "id": "e273c89b-c81c-40a9-8fc7-bf6509cf6b95",
   "metadata": {},
   "outputs": [],
   "source": []
  },
  {
   "cell_type": "code",
   "execution_count": null,
   "id": "dea50e4b-6fd8-42de-a6bd-d5e342cad436",
   "metadata": {},
   "outputs": [],
   "source": []
  },
  {
   "cell_type": "code",
   "execution_count": null,
   "id": "7ff9ba13-6546-4db5-abb1-e3f8e2de4657",
   "metadata": {},
   "outputs": [],
   "source": []
  },
  {
   "cell_type": "code",
   "execution_count": null,
   "id": "dc0e02b0-0690-44fa-bb79-a4d4397fd954",
   "metadata": {},
   "outputs": [],
   "source": []
  },
  {
   "cell_type": "code",
   "execution_count": null,
   "id": "ea50b27c-0be6-4732-885a-e3aa21c2711c",
   "metadata": {},
   "outputs": [],
   "source": []
  },
  {
   "cell_type": "code",
   "execution_count": null,
   "id": "f7ad286b-a088-4450-bcd3-023b7bf6d450",
   "metadata": {},
   "outputs": [],
   "source": []
  },
  {
   "cell_type": "code",
   "execution_count": null,
   "id": "1f7e8d9e-873f-4555-a08d-9e93492d30f5",
   "metadata": {},
   "outputs": [],
   "source": []
  }
 ],
 "metadata": {
  "kernelspec": {
   "display_name": "Python 3 (ipykernel)",
   "language": "python",
   "name": "python3"
  },
  "language_info": {
   "codemirror_mode": {
    "name": "ipython",
    "version": 3
   },
   "file_extension": ".py",
   "mimetype": "text/x-python",
   "name": "python",
   "nbconvert_exporter": "python",
   "pygments_lexer": "ipython3",
   "version": "3.12.4"
  }
 },
 "nbformat": 4,
 "nbformat_minor": 5
}
