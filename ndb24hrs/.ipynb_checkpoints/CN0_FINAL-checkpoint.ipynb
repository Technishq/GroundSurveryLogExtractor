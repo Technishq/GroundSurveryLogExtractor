{
 "cells": [
  {
   "cell_type": "code",
   "execution_count": 1,
   "id": "815ebdf2-0f7f-4ad4-87db-0ab31108f50b",
   "metadata": {},
   "outputs": [
    {
     "name": "stdout",
     "output_type": "stream",
     "text": [
      "Head of the file:\n",
      "   week  seconds  prn   C/No\n",
      "0   260   287020    6  0.703\n",
      "1   260   287021    6  0.574\n",
      "2   260   287022    6  0.536\n",
      "3   260   287023    6  0.501\n",
      "4   260   287024    6  0.368\n",
      "\n",
      "Tail of the file:\n",
      "       week  seconds  prn   C/No\n",
      "86400   260   373420   19 -1.644\n",
      "86401   260   373421   19 -1.914\n",
      "86402   260   373422   19 -1.859\n",
      "86403   260   373423   19 -1.795\n",
      "86404   260   373424   19 -1.895\n"
     ]
    }
   ],
   "source": [
    "import pandas as pd\n",
    "\n",
    "# Load the CSV file\n",
    "csv_file = '2nd24hrs_etsa.csv'\n",
    "df = pd.read_csv(csv_file)\n",
    "\n",
    "\n",
    "\n",
    "# Print the first few rows\n",
    "print(\"Head of the file:\")\n",
    "print(df.head())\n",
    "\n",
    "# Print the last few rows\n",
    "print(\"\\nTail of the file:\")\n",
    "print(df.tail())\n"
   ]
  },
  {
   "cell_type": "code",
   "execution_count": 5,
   "id": "842a88aa-969a-46ff-80e0-fc04ad10a294",
   "metadata": {},
   "outputs": [
    {
     "name": "stdout",
     "output_type": "stream",
     "text": [
      "Head of the file:\n",
      "   week  seconds  prn   C/No\n",
      "0   260   287020    6  0.703\n",
      "1   260   287021    6  0.574\n",
      "2   260   287022    6  0.536\n",
      "3   260   287023    6  0.501\n",
      "4   260   287024    6  0.368\n",
      "\n",
      "Tail of the file:\n",
      "       week  seconds  prn   C/No\n",
      "86400   260   373420   19 -1.644\n",
      "86401   260   373421   19 -1.914\n",
      "86402   260   373422   19 -1.859\n",
      "86403   260   373423   19 -1.795\n",
      "86404   260   373424   19 -1.895\n"
     ]
    }
   ],
   "source": [
    "# Drop all columns except the specified ones\n",
    "columns_to_keep = ['week', 'seconds', 'prn', 'C/No']\n",
    "df = df[columns_to_keep]\n",
    "\n",
    "# Print the first few rows\n",
    "print(\"Head of the file:\")\n",
    "print(df.head())\n",
    "\n",
    "# Print the last few rows\n",
    "print(\"\\nTail of the file:\")\n",
    "print(df.tail())"
   ]
  },
  {
   "cell_type": "code",
   "execution_count": 12,
   "id": "eab99c3c-eb6c-435a-9d40-462ef408b868",
   "metadata": {},
   "outputs": [
    {
     "name": "stdout",
     "output_type": "stream",
     "text": [
      "Head of the file with 24-hour time format:\n",
      "   week  seconds  prn   C/No            UTC Time 24-hour Time\n",
      "0   260   287020    6  0.703 1985-01-02 07:43:40     07:43:40\n",
      "1   260   287021    6  0.574 1985-01-02 07:43:41     07:43:41\n",
      "2   260   287022    6  0.536 1985-01-02 07:43:42     07:43:42\n",
      "3   260   287023    6  0.501 1985-01-02 07:43:43     07:43:43\n",
      "4   260   287024    6  0.368 1985-01-02 07:43:44     07:43:44\n"
     ]
    }
   ],
   "source": [
    "from datetime import datetime, timedelta\n",
    "\n",
    "# Define the GPS epoch\n",
    "GPS_EPOCH = datetime(1980, 1, 6)\n",
    "\n",
    "def gps_to_utc(week, seconds):\n",
    "    # Calculate the GPS time\n",
    "    gps_time = GPS_EPOCH + timedelta(weeks=week, seconds=seconds)\n",
    "    return gps_time\n",
    "\n",
    "# Apply the conversion to the DataFrame\n",
    "df['UTC Time'] = df.apply(lambda row: gps_to_utc(row['week'], row['seconds']), axis=1)\n",
    "\n",
    "# Convert 'UTC Time' to a 24-hour time format\n",
    "df['24-hour Time'] = df['UTC Time'].dt.strftime('%H:%M:%S')\n",
    "\n",
    "# Print the first few rows to verify\n",
    "print(\"Head of the file with 24-hour time format:\")\n",
    "print(df.head())"
   ]
  },
  {
   "cell_type": "code",
   "execution_count": 13,
   "id": "c528bff9-df21-4e21-b4f2-8e54ac9121ba",
   "metadata": {},
   "outputs": [
    {
     "data": {
      "text/html": [
       "<iframe\n",
       "    scrolling=\"no\"\n",
       "    width=\"100%\"\n",
       "    height=\"545px\"\n",
       "    src=\"iframe_figures/figure_13.html\"\n",
       "    frameborder=\"0\"\n",
       "    allowfullscreen\n",
       "></iframe>\n"
      ]
     },
     "metadata": {},
     "output_type": "display_data"
    }
   ],
   "source": [
    "import plotly.io as pio\n",
    "pio.renderers.default = \"iframe\"\n",
    "# Ask user to input a specific PRN\n",
    "import plotly.express as px\n",
    "import plotly.graph_objects as go\n",
    "# Plot d/u values against 24-hour time for all PRNs together\n",
    "fig = go.Figure()\n",
    "\n",
    "# Add traces for each PRN\n",
    "for prn in df['prn'].unique():\n",
    "    group = df[df['prn'] == prn]\n",
    "    fig.add_trace(go.Scatter(x=group['24-hour Time'], y=group['C/No'], mode='lines', name=f'PRN {prn}'))\n",
    "\n",
    "# Update layout\n",
    "fig.update_layout(\n",
    "    title='d/u values for all PRNs',\n",
    "    xaxis_title='Time (24-hour format)',\n",
    "    yaxis_title='C/N0',\n",
    "    xaxis_tickformat='%H:%M:%S'\n",
    ")\n",
    "\n",
    "# Show the figure\n",
    "fig.show()\n"
   ]
  },
  {
   "cell_type": "code",
   "execution_count": 14,
   "id": "6886d09f-8cb0-479b-8b14-f123a8f410c1",
   "metadata": {},
   "outputs": [
    {
     "name": "stdout",
     "output_type": "stream",
     "text": [
      "\n",
      "PRN: 0\n",
      "Head of the group:\n",
      "      week  seconds  prn  C/No            UTC Time 24-hour Time\n",
      "9010   260   296030    0   0.0 1985-01-02 10:13:50     10:13:50\n",
      "9011   260   296031    0   0.0 1985-01-02 10:13:51     10:13:51\n",
      "9012   260   296032    0   0.0 1985-01-02 10:13:52     10:13:52\n",
      "9013   260   296033    0   0.0 1985-01-02 10:13:53     10:13:53\n",
      "9014   260   296034    0   0.0 1985-01-02 10:13:54     10:13:54\n",
      "\n",
      "Tail of the group:\n",
      "       week  seconds  prn  C/No            UTC Time 24-hour Time\n",
      "66425   260   353445    0   0.0 1985-01-03 02:10:45     02:10:45\n",
      "66426   260   353446    0   0.0 1985-01-03 02:10:46     02:10:46\n",
      "66427   260   353447    0   0.0 1985-01-03 02:10:47     02:10:47\n",
      "66428   260   353448    0   0.0 1985-01-03 02:10:48     02:10:48\n",
      "66429   260   353449    0   0.0 1985-01-03 02:10:49     02:10:49\n",
      "\n",
      "PRN: 3\n",
      "Head of the group:\n",
      "       week  seconds  prn  C/No            UTC Time 24-hour Time\n",
      "43510   260   330530    3   0.0 1985-01-02 19:48:50     19:48:50\n",
      "43511   260   330531    3   0.0 1985-01-02 19:48:51     19:48:51\n",
      "43512   260   330532    3   0.0 1985-01-02 19:48:52     19:48:52\n",
      "43513   260   330533    3   0.0 1985-01-02 19:48:53     19:48:53\n",
      "43514   260   330534    3   0.0 1985-01-02 19:48:54     19:48:54\n",
      "\n",
      "Tail of the group:\n",
      "       week  seconds  prn  C/No            UTC Time 24-hour Time\n",
      "64805   260   351825    3   0.0 1985-01-03 01:43:45     01:43:45\n",
      "64806   260   351826    3   0.0 1985-01-03 01:43:46     01:43:46\n",
      "64807   260   351827    3   0.0 1985-01-03 01:43:47     01:43:47\n",
      "64808   260   351828    3   0.0 1985-01-03 01:43:48     01:43:48\n",
      "64809   260   351829    3   0.0 1985-01-03 01:43:49     01:43:49\n",
      "\n",
      "PRN: 6\n",
      "Head of the group:\n",
      "   week  seconds  prn   C/No            UTC Time 24-hour Time\n",
      "0   260   287020    6  0.703 1985-01-02 07:43:40     07:43:40\n",
      "1   260   287021    6  0.574 1985-01-02 07:43:41     07:43:41\n",
      "2   260   287022    6  0.536 1985-01-02 07:43:42     07:43:42\n",
      "3   260   287023    6  0.501 1985-01-02 07:43:43     07:43:43\n",
      "4   260   287024    6  0.368 1985-01-02 07:43:44     07:43:44\n",
      "\n",
      "Tail of the group:\n",
      "      week  seconds  prn  C/No            UTC Time 24-hour Time\n",
      "9005   260   296025    6   0.0 1985-01-02 10:13:45     10:13:45\n",
      "9006   260   296026    6   0.0 1985-01-02 10:13:46     10:13:46\n",
      "9007   260   296027    6   0.0 1985-01-02 10:13:47     10:13:47\n",
      "9008   260   296028    6   0.0 1985-01-02 10:13:48     10:13:48\n",
      "9009   260   296029    6   0.0 1985-01-02 10:13:49     10:13:49\n",
      "\n",
      "PRN: 19\n",
      "Head of the group:\n",
      "       week  seconds  prn  C/No            UTC Time 24-hour Time\n",
      "66430   260   353450   19   0.0 1985-01-03 02:10:50     02:10:50\n",
      "66431   260   353451   19   0.0 1985-01-03 02:10:51     02:10:51\n",
      "66432   260   353452   19   0.0 1985-01-03 02:10:52     02:10:52\n",
      "66433   260   353453   19   0.0 1985-01-03 02:10:53     02:10:53\n",
      "66434   260   353454   19   0.0 1985-01-03 02:10:54     02:10:54\n",
      "\n",
      "Tail of the group:\n",
      "       week  seconds  prn   C/No            UTC Time 24-hour Time\n",
      "86400   260   373420   19 -1.644 1985-01-03 07:43:40     07:43:40\n",
      "86401   260   373421   19 -1.914 1985-01-03 07:43:41     07:43:41\n",
      "86402   260   373422   19 -1.859 1985-01-03 07:43:42     07:43:42\n",
      "86403   260   373423   19 -1.795 1985-01-03 07:43:43     07:43:43\n",
      "86404   260   373424   19 -1.895 1985-01-03 07:43:44     07:43:44\n",
      "\n",
      "PRN: 23\n",
      "Head of the group:\n",
      "       week  seconds  prn  C/No            UTC Time 24-hour Time\n",
      "11380   260   298400   23   0.0 1985-01-02 10:53:20     10:53:20\n",
      "11381   260   298401   23   0.0 1985-01-02 10:53:21     10:53:21\n",
      "11382   260   298402   23   0.0 1985-01-02 10:53:22     10:53:22\n",
      "11383   260   298403   23   0.0 1985-01-02 10:53:23     10:53:23\n",
      "11384   260   298404   23   0.0 1985-01-02 10:53:24     10:53:24\n",
      "\n",
      "Tail of the group:\n",
      "       week  seconds  prn  C/No            UTC Time 24-hour Time\n",
      "43505   260   330525   23   0.0 1985-01-02 19:48:45     19:48:45\n",
      "43506   260   330526   23   0.0 1985-01-02 19:48:46     19:48:46\n",
      "43507   260   330527   23   0.0 1985-01-02 19:48:47     19:48:47\n",
      "43508   260   330528   23   0.0 1985-01-02 19:48:48     19:48:48\n",
      "43509   260   330529   23   0.0 1985-01-02 19:48:49     19:48:49\n"
     ]
    }
   ],
   "source": [
    "grouped = df.groupby('prn')\n",
    "\n",
    "# Print the head and tail of each group\n",
    "for prn, group in grouped:\n",
    "    print(f\"\\nPRN: {prn}\")\n",
    "    print(\"Head of the group:\")\n",
    "    print(group.head())\n",
    "    print(\"\\nTail of the group:\")\n",
    "    print(group.tail())"
   ]
  },
  {
   "cell_type": "code",
   "execution_count": 16,
   "id": "66252a63-1d2b-400f-b3b1-13131dce1010",
   "metadata": {},
   "outputs": [
    {
     "name": "stdin",
     "output_type": "stream",
     "text": [
      "Enter a PRN to plot (e.g., 32):  6\n"
     ]
    },
    {
     "data": {
      "text/html": [
       "<iframe\n",
       "    scrolling=\"no\"\n",
       "    width=\"100%\"\n",
       "    height=\"545px\"\n",
       "    src=\"iframe_figures/figure_16.html\"\n",
       "    frameborder=\"0\"\n",
       "    allowfullscreen\n",
       "></iframe>\n"
      ]
     },
     "metadata": {},
     "output_type": "display_data"
    }
   ],
   "source": [
    "# Ask user to input a specific PRN\n",
    "import plotly.express as px\n",
    "import plotly.graph_objects as go\n",
    "specific_prn = int(input(\"Enter a PRN to plot (e.g., 32): \"))\n",
    "\n",
    "# Plot d/u values against 24-hour time for the specific PRN\n",
    "if specific_prn in grouped.groups:\n",
    "    group = grouped.get_group(specific_prn)\n",
    "    fig = px.line(group, x='24-hour Time', y='C/N0', title=f'd/u values for PRN {specific_prn}')\n",
    "    fig.update_layout(\n",
    "        xaxis_title='Time (24-hour format)',\n",
    "        yaxis_title='C/N0',\n",
    "        xaxis_tickformat='%H:%M:%S'\n",
    "    )\n",
    "    fig.show()\n",
    "else:\n",
    "    print(f\"PRN {specific_prn} not found in the dataset.\")\n"
   ]
  },
  {
   "cell_type": "code",
   "execution_count": null,
   "id": "c3da8648-1329-437a-99be-33288efc6462",
   "metadata": {},
   "outputs": [],
   "source": []
  }
 ],
 "metadata": {
  "kernelspec": {
   "display_name": "Python 3 (ipykernel)",
   "language": "python",
   "name": "python3"
  },
  "language_info": {
   "codemirror_mode": {
    "name": "ipython",
    "version": 3
   },
   "file_extension": ".py",
   "mimetype": "text/x-python",
   "name": "python",
   "nbconvert_exporter": "python",
   "pygments_lexer": "ipython3",
   "version": "3.12.4"
  }
 },
 "nbformat": 4,
 "nbformat_minor": 5
}
