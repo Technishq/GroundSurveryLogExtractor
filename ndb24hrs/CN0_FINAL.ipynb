{
 "cells": [
  {
   "cell_type": "code",
   "execution_count": 1,
   "id": "815ebdf2-0f7f-4ad4-87db-0ab31108f50b",
   "metadata": {},
   "outputs": [
    {
     "ename": "FileNotFoundError",
     "evalue": "[Errno 2] No such file or directory: 'elevation.csv'",
     "output_type": "error",
     "traceback": [
      "\u001b[0;31m---------------------------------------------------------------------------\u001b[0m",
      "\u001b[0;31mFileNotFoundError\u001b[0m                         Traceback (most recent call last)",
      "Cell \u001b[0;32mIn[1], line 5\u001b[0m\n\u001b[1;32m      3\u001b[0m \u001b[38;5;66;03m# Load the CSV file\u001b[39;00m\n\u001b[1;32m      4\u001b[0m csv_file \u001b[38;5;241m=\u001b[39m \u001b[38;5;124m'\u001b[39m\u001b[38;5;124melevation.csv\u001b[39m\u001b[38;5;124m'\u001b[39m\n\u001b[0;32m----> 5\u001b[0m df \u001b[38;5;241m=\u001b[39m \u001b[43mpd\u001b[49m\u001b[38;5;241;43m.\u001b[39;49m\u001b[43mread_csv\u001b[49m\u001b[43m(\u001b[49m\u001b[43mcsv_file\u001b[49m\u001b[43m)\u001b[49m\n\u001b[1;32m      9\u001b[0m \u001b[38;5;66;03m# Print the first few rows\u001b[39;00m\n\u001b[1;32m     10\u001b[0m \u001b[38;5;28mprint\u001b[39m(\u001b[38;5;124m\"\u001b[39m\u001b[38;5;124mHead of the file:\u001b[39m\u001b[38;5;124m\"\u001b[39m)\n",
      "File \u001b[0;32m/usr/local/lib/python3.12/site-packages/pandas/io/parsers/readers.py:1026\u001b[0m, in \u001b[0;36mread_csv\u001b[0;34m(filepath_or_buffer, sep, delimiter, header, names, index_col, usecols, dtype, engine, converters, true_values, false_values, skipinitialspace, skiprows, skipfooter, nrows, na_values, keep_default_na, na_filter, verbose, skip_blank_lines, parse_dates, infer_datetime_format, keep_date_col, date_parser, date_format, dayfirst, cache_dates, iterator, chunksize, compression, thousands, decimal, lineterminator, quotechar, quoting, doublequote, escapechar, comment, encoding, encoding_errors, dialect, on_bad_lines, delim_whitespace, low_memory, memory_map, float_precision, storage_options, dtype_backend)\u001b[0m\n\u001b[1;32m   1013\u001b[0m kwds_defaults \u001b[38;5;241m=\u001b[39m _refine_defaults_read(\n\u001b[1;32m   1014\u001b[0m     dialect,\n\u001b[1;32m   1015\u001b[0m     delimiter,\n\u001b[0;32m   (...)\u001b[0m\n\u001b[1;32m   1022\u001b[0m     dtype_backend\u001b[38;5;241m=\u001b[39mdtype_backend,\n\u001b[1;32m   1023\u001b[0m )\n\u001b[1;32m   1024\u001b[0m kwds\u001b[38;5;241m.\u001b[39mupdate(kwds_defaults)\n\u001b[0;32m-> 1026\u001b[0m \u001b[38;5;28;01mreturn\u001b[39;00m \u001b[43m_read\u001b[49m\u001b[43m(\u001b[49m\u001b[43mfilepath_or_buffer\u001b[49m\u001b[43m,\u001b[49m\u001b[43m \u001b[49m\u001b[43mkwds\u001b[49m\u001b[43m)\u001b[49m\n",
      "File \u001b[0;32m/usr/local/lib/python3.12/site-packages/pandas/io/parsers/readers.py:620\u001b[0m, in \u001b[0;36m_read\u001b[0;34m(filepath_or_buffer, kwds)\u001b[0m\n\u001b[1;32m    617\u001b[0m _validate_names(kwds\u001b[38;5;241m.\u001b[39mget(\u001b[38;5;124m\"\u001b[39m\u001b[38;5;124mnames\u001b[39m\u001b[38;5;124m\"\u001b[39m, \u001b[38;5;28;01mNone\u001b[39;00m))\n\u001b[1;32m    619\u001b[0m \u001b[38;5;66;03m# Create the parser.\u001b[39;00m\n\u001b[0;32m--> 620\u001b[0m parser \u001b[38;5;241m=\u001b[39m \u001b[43mTextFileReader\u001b[49m\u001b[43m(\u001b[49m\u001b[43mfilepath_or_buffer\u001b[49m\u001b[43m,\u001b[49m\u001b[43m \u001b[49m\u001b[38;5;241;43m*\u001b[39;49m\u001b[38;5;241;43m*\u001b[39;49m\u001b[43mkwds\u001b[49m\u001b[43m)\u001b[49m\n\u001b[1;32m    622\u001b[0m \u001b[38;5;28;01mif\u001b[39;00m chunksize \u001b[38;5;129;01mor\u001b[39;00m iterator:\n\u001b[1;32m    623\u001b[0m     \u001b[38;5;28;01mreturn\u001b[39;00m parser\n",
      "File \u001b[0;32m/usr/local/lib/python3.12/site-packages/pandas/io/parsers/readers.py:1620\u001b[0m, in \u001b[0;36mTextFileReader.__init__\u001b[0;34m(self, f, engine, **kwds)\u001b[0m\n\u001b[1;32m   1617\u001b[0m     \u001b[38;5;28mself\u001b[39m\u001b[38;5;241m.\u001b[39moptions[\u001b[38;5;124m\"\u001b[39m\u001b[38;5;124mhas_index_names\u001b[39m\u001b[38;5;124m\"\u001b[39m] \u001b[38;5;241m=\u001b[39m kwds[\u001b[38;5;124m\"\u001b[39m\u001b[38;5;124mhas_index_names\u001b[39m\u001b[38;5;124m\"\u001b[39m]\n\u001b[1;32m   1619\u001b[0m \u001b[38;5;28mself\u001b[39m\u001b[38;5;241m.\u001b[39mhandles: IOHandles \u001b[38;5;241m|\u001b[39m \u001b[38;5;28;01mNone\u001b[39;00m \u001b[38;5;241m=\u001b[39m \u001b[38;5;28;01mNone\u001b[39;00m\n\u001b[0;32m-> 1620\u001b[0m \u001b[38;5;28mself\u001b[39m\u001b[38;5;241m.\u001b[39m_engine \u001b[38;5;241m=\u001b[39m \u001b[38;5;28;43mself\u001b[39;49m\u001b[38;5;241;43m.\u001b[39;49m\u001b[43m_make_engine\u001b[49m\u001b[43m(\u001b[49m\u001b[43mf\u001b[49m\u001b[43m,\u001b[49m\u001b[43m \u001b[49m\u001b[38;5;28;43mself\u001b[39;49m\u001b[38;5;241;43m.\u001b[39;49m\u001b[43mengine\u001b[49m\u001b[43m)\u001b[49m\n",
      "File \u001b[0;32m/usr/local/lib/python3.12/site-packages/pandas/io/parsers/readers.py:1880\u001b[0m, in \u001b[0;36mTextFileReader._make_engine\u001b[0;34m(self, f, engine)\u001b[0m\n\u001b[1;32m   1878\u001b[0m     \u001b[38;5;28;01mif\u001b[39;00m \u001b[38;5;124m\"\u001b[39m\u001b[38;5;124mb\u001b[39m\u001b[38;5;124m\"\u001b[39m \u001b[38;5;129;01mnot\u001b[39;00m \u001b[38;5;129;01min\u001b[39;00m mode:\n\u001b[1;32m   1879\u001b[0m         mode \u001b[38;5;241m+\u001b[39m\u001b[38;5;241m=\u001b[39m \u001b[38;5;124m\"\u001b[39m\u001b[38;5;124mb\u001b[39m\u001b[38;5;124m\"\u001b[39m\n\u001b[0;32m-> 1880\u001b[0m \u001b[38;5;28mself\u001b[39m\u001b[38;5;241m.\u001b[39mhandles \u001b[38;5;241m=\u001b[39m \u001b[43mget_handle\u001b[49m\u001b[43m(\u001b[49m\n\u001b[1;32m   1881\u001b[0m \u001b[43m    \u001b[49m\u001b[43mf\u001b[49m\u001b[43m,\u001b[49m\n\u001b[1;32m   1882\u001b[0m \u001b[43m    \u001b[49m\u001b[43mmode\u001b[49m\u001b[43m,\u001b[49m\n\u001b[1;32m   1883\u001b[0m \u001b[43m    \u001b[49m\u001b[43mencoding\u001b[49m\u001b[38;5;241;43m=\u001b[39;49m\u001b[38;5;28;43mself\u001b[39;49m\u001b[38;5;241;43m.\u001b[39;49m\u001b[43moptions\u001b[49m\u001b[38;5;241;43m.\u001b[39;49m\u001b[43mget\u001b[49m\u001b[43m(\u001b[49m\u001b[38;5;124;43m\"\u001b[39;49m\u001b[38;5;124;43mencoding\u001b[39;49m\u001b[38;5;124;43m\"\u001b[39;49m\u001b[43m,\u001b[49m\u001b[43m \u001b[49m\u001b[38;5;28;43;01mNone\u001b[39;49;00m\u001b[43m)\u001b[49m\u001b[43m,\u001b[49m\n\u001b[1;32m   1884\u001b[0m \u001b[43m    \u001b[49m\u001b[43mcompression\u001b[49m\u001b[38;5;241;43m=\u001b[39;49m\u001b[38;5;28;43mself\u001b[39;49m\u001b[38;5;241;43m.\u001b[39;49m\u001b[43moptions\u001b[49m\u001b[38;5;241;43m.\u001b[39;49m\u001b[43mget\u001b[49m\u001b[43m(\u001b[49m\u001b[38;5;124;43m\"\u001b[39;49m\u001b[38;5;124;43mcompression\u001b[39;49m\u001b[38;5;124;43m\"\u001b[39;49m\u001b[43m,\u001b[49m\u001b[43m \u001b[49m\u001b[38;5;28;43;01mNone\u001b[39;49;00m\u001b[43m)\u001b[49m\u001b[43m,\u001b[49m\n\u001b[1;32m   1885\u001b[0m \u001b[43m    \u001b[49m\u001b[43mmemory_map\u001b[49m\u001b[38;5;241;43m=\u001b[39;49m\u001b[38;5;28;43mself\u001b[39;49m\u001b[38;5;241;43m.\u001b[39;49m\u001b[43moptions\u001b[49m\u001b[38;5;241;43m.\u001b[39;49m\u001b[43mget\u001b[49m\u001b[43m(\u001b[49m\u001b[38;5;124;43m\"\u001b[39;49m\u001b[38;5;124;43mmemory_map\u001b[39;49m\u001b[38;5;124;43m\"\u001b[39;49m\u001b[43m,\u001b[49m\u001b[43m \u001b[49m\u001b[38;5;28;43;01mFalse\u001b[39;49;00m\u001b[43m)\u001b[49m\u001b[43m,\u001b[49m\n\u001b[1;32m   1886\u001b[0m \u001b[43m    \u001b[49m\u001b[43mis_text\u001b[49m\u001b[38;5;241;43m=\u001b[39;49m\u001b[43mis_text\u001b[49m\u001b[43m,\u001b[49m\n\u001b[1;32m   1887\u001b[0m \u001b[43m    \u001b[49m\u001b[43merrors\u001b[49m\u001b[38;5;241;43m=\u001b[39;49m\u001b[38;5;28;43mself\u001b[39;49m\u001b[38;5;241;43m.\u001b[39;49m\u001b[43moptions\u001b[49m\u001b[38;5;241;43m.\u001b[39;49m\u001b[43mget\u001b[49m\u001b[43m(\u001b[49m\u001b[38;5;124;43m\"\u001b[39;49m\u001b[38;5;124;43mencoding_errors\u001b[39;49m\u001b[38;5;124;43m\"\u001b[39;49m\u001b[43m,\u001b[49m\u001b[43m \u001b[49m\u001b[38;5;124;43m\"\u001b[39;49m\u001b[38;5;124;43mstrict\u001b[39;49m\u001b[38;5;124;43m\"\u001b[39;49m\u001b[43m)\u001b[49m\u001b[43m,\u001b[49m\n\u001b[1;32m   1888\u001b[0m \u001b[43m    \u001b[49m\u001b[43mstorage_options\u001b[49m\u001b[38;5;241;43m=\u001b[39;49m\u001b[38;5;28;43mself\u001b[39;49m\u001b[38;5;241;43m.\u001b[39;49m\u001b[43moptions\u001b[49m\u001b[38;5;241;43m.\u001b[39;49m\u001b[43mget\u001b[49m\u001b[43m(\u001b[49m\u001b[38;5;124;43m\"\u001b[39;49m\u001b[38;5;124;43mstorage_options\u001b[39;49m\u001b[38;5;124;43m\"\u001b[39;49m\u001b[43m,\u001b[49m\u001b[43m \u001b[49m\u001b[38;5;28;43;01mNone\u001b[39;49;00m\u001b[43m)\u001b[49m\u001b[43m,\u001b[49m\n\u001b[1;32m   1889\u001b[0m \u001b[43m\u001b[49m\u001b[43m)\u001b[49m\n\u001b[1;32m   1890\u001b[0m \u001b[38;5;28;01massert\u001b[39;00m \u001b[38;5;28mself\u001b[39m\u001b[38;5;241m.\u001b[39mhandles \u001b[38;5;129;01mis\u001b[39;00m \u001b[38;5;129;01mnot\u001b[39;00m \u001b[38;5;28;01mNone\u001b[39;00m\n\u001b[1;32m   1891\u001b[0m f \u001b[38;5;241m=\u001b[39m \u001b[38;5;28mself\u001b[39m\u001b[38;5;241m.\u001b[39mhandles\u001b[38;5;241m.\u001b[39mhandle\n",
      "File \u001b[0;32m/usr/local/lib/python3.12/site-packages/pandas/io/common.py:873\u001b[0m, in \u001b[0;36mget_handle\u001b[0;34m(path_or_buf, mode, encoding, compression, memory_map, is_text, errors, storage_options)\u001b[0m\n\u001b[1;32m    868\u001b[0m \u001b[38;5;28;01melif\u001b[39;00m \u001b[38;5;28misinstance\u001b[39m(handle, \u001b[38;5;28mstr\u001b[39m):\n\u001b[1;32m    869\u001b[0m     \u001b[38;5;66;03m# Check whether the filename is to be opened in binary mode.\u001b[39;00m\n\u001b[1;32m    870\u001b[0m     \u001b[38;5;66;03m# Binary mode does not support 'encoding' and 'newline'.\u001b[39;00m\n\u001b[1;32m    871\u001b[0m     \u001b[38;5;28;01mif\u001b[39;00m ioargs\u001b[38;5;241m.\u001b[39mencoding \u001b[38;5;129;01mand\u001b[39;00m \u001b[38;5;124m\"\u001b[39m\u001b[38;5;124mb\u001b[39m\u001b[38;5;124m\"\u001b[39m \u001b[38;5;129;01mnot\u001b[39;00m \u001b[38;5;129;01min\u001b[39;00m ioargs\u001b[38;5;241m.\u001b[39mmode:\n\u001b[1;32m    872\u001b[0m         \u001b[38;5;66;03m# Encoding\u001b[39;00m\n\u001b[0;32m--> 873\u001b[0m         handle \u001b[38;5;241m=\u001b[39m \u001b[38;5;28;43mopen\u001b[39;49m\u001b[43m(\u001b[49m\n\u001b[1;32m    874\u001b[0m \u001b[43m            \u001b[49m\u001b[43mhandle\u001b[49m\u001b[43m,\u001b[49m\n\u001b[1;32m    875\u001b[0m \u001b[43m            \u001b[49m\u001b[43mioargs\u001b[49m\u001b[38;5;241;43m.\u001b[39;49m\u001b[43mmode\u001b[49m\u001b[43m,\u001b[49m\n\u001b[1;32m    876\u001b[0m \u001b[43m            \u001b[49m\u001b[43mencoding\u001b[49m\u001b[38;5;241;43m=\u001b[39;49m\u001b[43mioargs\u001b[49m\u001b[38;5;241;43m.\u001b[39;49m\u001b[43mencoding\u001b[49m\u001b[43m,\u001b[49m\n\u001b[1;32m    877\u001b[0m \u001b[43m            \u001b[49m\u001b[43merrors\u001b[49m\u001b[38;5;241;43m=\u001b[39;49m\u001b[43merrors\u001b[49m\u001b[43m,\u001b[49m\n\u001b[1;32m    878\u001b[0m \u001b[43m            \u001b[49m\u001b[43mnewline\u001b[49m\u001b[38;5;241;43m=\u001b[39;49m\u001b[38;5;124;43m\"\u001b[39;49m\u001b[38;5;124;43m\"\u001b[39;49m\u001b[43m,\u001b[49m\n\u001b[1;32m    879\u001b[0m \u001b[43m        \u001b[49m\u001b[43m)\u001b[49m\n\u001b[1;32m    880\u001b[0m     \u001b[38;5;28;01melse\u001b[39;00m:\n\u001b[1;32m    881\u001b[0m         \u001b[38;5;66;03m# Binary mode\u001b[39;00m\n\u001b[1;32m    882\u001b[0m         handle \u001b[38;5;241m=\u001b[39m \u001b[38;5;28mopen\u001b[39m(handle, ioargs\u001b[38;5;241m.\u001b[39mmode)\n",
      "\u001b[0;31mFileNotFoundError\u001b[0m: [Errno 2] No such file or directory: 'elevation.csv'"
     ]
    }
   ],
   "source": [
    "import pandas as pd\n",
    "\n",
    "# Load the CSV file\n",
    "csv_file = 'elevation.csv'\n",
    "df = pd.read_csv(csv_file)\n",
    "\n",
    "\n",
    "\n",
    "# Print the first few rows\n",
    "print(\"Head of the file:\")\n",
    "print(df.head())\n",
    "\n",
    "# Print the last few rows\n",
    "print(\"\\nTail of the file:\")\n",
    "print(df.tail())\n"
   ]
  },
  {
   "cell_type": "code",
   "execution_count": 2,
   "id": "842a88aa-969a-46ff-80e0-fc04ad10a294",
   "metadata": {},
   "outputs": [
    {
     "name": "stdout",
     "output_type": "stream",
     "text": [
      "Head of the file:\n",
      "   week  seconds  prn  C/No\n",
      "0   267   215904   10   0.0\n",
      "1   267   215905   10   0.0\n",
      "2   267   215906   10   0.0\n",
      "3   267   215907   10   0.0\n",
      "4   267   215908   10   0.0\n",
      "\n",
      "Tail of the file:\n",
      "       week  seconds  prn   C/No\n",
      "86394   267   302298   32  0.494\n",
      "86395   267   302299   32  0.341\n",
      "86396   267   302300   32  0.375\n",
      "86397   267   302301   32  0.509\n",
      "86398   267   302302   32  0.561\n"
     ]
    }
   ],
   "source": [
    "# Drop all columns except the specified ones\n",
    "columns_to_keep = ['week', 'seconds', 'prn', 'C/No']\n",
    "df = df[columns_to_keep]\n",
    "\n",
    "# Print the first few rows\n",
    "print(\"Head of the file:\")\n",
    "print(df.head())\n",
    "\n",
    "# Print the last few rows\n",
    "print(\"\\nTail of the file:\")\n",
    "print(df.tail())"
   ]
  },
  {
   "cell_type": "code",
   "execution_count": 3,
   "id": "eab99c3c-eb6c-435a-9d40-462ef408b868",
   "metadata": {},
   "outputs": [
    {
     "name": "stdout",
     "output_type": "stream",
     "text": [
      "Head of the file with 24-hour time format:\n",
      "   week  seconds  prn  C/No            UTC Time 24-hour Time\n",
      "0   267   215904   10   0.0 1985-02-19 11:58:24     11:58:24\n",
      "1   267   215905   10   0.0 1985-02-19 11:58:25     11:58:25\n",
      "2   267   215906   10   0.0 1985-02-19 11:58:26     11:58:26\n",
      "3   267   215907   10   0.0 1985-02-19 11:58:27     11:58:27\n",
      "4   267   215908   10   0.0 1985-02-19 11:58:28     11:58:28\n"
     ]
    }
   ],
   "source": [
    "from datetime import datetime, timedelta\n",
    "\n",
    "# Define the GPS epoch\n",
    "GPS_EPOCH = datetime(1980, 1, 6)\n",
    "\n",
    "def gps_to_utc(week, seconds):\n",
    "    # Calculate the GPS time\n",
    "    gps_time = GPS_EPOCH + timedelta(weeks=week, seconds=seconds)\n",
    "    return gps_time\n",
    "\n",
    "# Apply the conversion to the DataFrame\n",
    "df['UTC Time'] = df.apply(lambda row: gps_to_utc(row['week'], row['seconds']), axis=1)\n",
    "\n",
    "# Convert 'UTC Time' to a 24-hour time format\n",
    "df['24-hour Time'] = df['UTC Time'].dt.strftime('%H:%M:%S')\n",
    "\n",
    "# Print the first few rows to verify\n",
    "print(\"Head of the file with 24-hour time format:\")\n",
    "print(df.head())"
   ]
  },
  {
   "cell_type": "code",
   "execution_count": 4,
   "id": "c528bff9-df21-4e21-b4f2-8e54ac9121ba",
   "metadata": {},
   "outputs": [
    {
     "data": {
      "text/html": [
       "<iframe\n",
       "    scrolling=\"no\"\n",
       "    width=\"100%\"\n",
       "    height=\"545px\"\n",
       "    src=\"iframe_figures/figure_4.html\"\n",
       "    frameborder=\"0\"\n",
       "    allowfullscreen\n",
       "></iframe>\n"
      ]
     },
     "metadata": {},
     "output_type": "display_data"
    }
   ],
   "source": [
    "import plotly.io as pio\n",
    "pio.renderers.default = \"iframe\"\n",
    "# Ask user to input a specific PRN\n",
    "import plotly.express as px\n",
    "import plotly.graph_objects as go\n",
    "# Plot d/u values against 24-hour time for all PRNs together\n",
    "fig = go.Figure()\n",
    "\n",
    "# Add traces for each PRN\n",
    "for prn in df['prn'].unique():\n",
    "    group = df[df['prn'] == prn]\n",
    "    fig.add_trace(go.Scatter(x=group['24-hour Time'], y=group['C/No'], mode='lines', name=f'PRN {prn}'))\n",
    "\n",
    "# Update layout\n",
    "fig.update_layout(\n",
    "    title='d/u values for all PRNs',\n",
    "    xaxis_title='Time (24-hour format)',\n",
    "    yaxis_title='C/N0',\n",
    "    xaxis_tickformat='%H:%M:%S'\n",
    ")\n",
    "\n",
    "# Show the figure\n",
    "fig.show()\n"
   ]
  },
  {
   "cell_type": "code",
   "execution_count": 5,
   "id": "6886d09f-8cb0-479b-8b14-f123a8f410c1",
   "metadata": {},
   "outputs": [
    {
     "name": "stdout",
     "output_type": "stream",
     "text": [
      "\n",
      "PRN: 0\n",
      "Head of the group:\n",
      "       week  seconds  prn  C/No            UTC Time 24-hour Time\n",
      "22481   267   238385    0   0.0 1985-02-19 18:13:05     18:13:05\n",
      "22482   267   238386    0   0.0 1985-02-19 18:13:06     18:13:06\n",
      "22483   267   238387    0   0.0 1985-02-19 18:13:07     18:13:07\n",
      "22484   267   238388    0   0.0 1985-02-19 18:13:08     18:13:08\n",
      "22485   267   238389    0   0.0 1985-02-19 18:13:09     18:13:09\n",
      "\n",
      "Tail of the group:\n",
      "       week  seconds  prn  C/No            UTC Time 24-hour Time\n",
      "83348   267   299252    0   0.0 1985-02-20 11:07:32     11:07:32\n",
      "83349   267   299253    0   0.0 1985-02-20 11:07:33     11:07:33\n",
      "83350   267   299254    0   0.0 1985-02-20 11:07:34     11:07:34\n",
      "83351   267   299255    0   0.0 1985-02-20 11:07:35     11:07:35\n",
      "83352   267   299256    0   0.0 1985-02-20 11:07:36     11:07:36\n",
      "\n",
      "PRN: 10\n",
      "Head of the group:\n",
      "   week  seconds  prn  C/No            UTC Time 24-hour Time\n",
      "0   267   215904   10   0.0 1985-02-19 11:58:24     11:58:24\n",
      "1   267   215905   10   0.0 1985-02-19 11:58:25     11:58:25\n",
      "2   267   215906   10   0.0 1985-02-19 11:58:26     11:58:26\n",
      "3   267   215907   10   0.0 1985-02-19 11:58:27     11:58:27\n",
      "4   267   215908   10   0.0 1985-02-19 11:58:28     11:58:28\n",
      "\n",
      "Tail of the group:\n",
      "       week  seconds  prn  C/No            UTC Time 24-hour Time\n",
      "22476   267   238380   10   0.0 1985-02-19 18:13:00     18:13:00\n",
      "22477   267   238381   10   0.0 1985-02-19 18:13:01     18:13:01\n",
      "22478   267   238382   10   0.0 1985-02-19 18:13:02     18:13:02\n",
      "22479   267   238383   10   0.0 1985-02-19 18:13:03     18:13:03\n",
      "22480   267   238384   10   0.0 1985-02-19 18:13:04     18:13:04\n",
      "\n",
      "PRN: 13\n",
      "Head of the group:\n",
      "       week  seconds  prn  C/No            UTC Time 24-hour Time\n",
      "42463   267   258367   13   0.0 1985-02-19 23:46:07     23:46:07\n",
      "42464   267   258368   13   0.0 1985-02-19 23:46:08     23:46:08\n",
      "42465   267   258369   13   0.0 1985-02-19 23:46:09     23:46:09\n",
      "42466   267   258370   13   0.0 1985-02-19 23:46:10     23:46:10\n",
      "42467   267   258371   13   0.0 1985-02-19 23:46:11     23:46:11\n",
      "\n",
      "Tail of the group:\n",
      "       week  seconds  prn  C/No            UTC Time 24-hour Time\n",
      "53528   267   269432   13   0.0 1985-02-20 02:50:32     02:50:32\n",
      "53529   267   269433   13   0.0 1985-02-20 02:50:33     02:50:33\n",
      "53530   267   269434   13   0.0 1985-02-20 02:50:34     02:50:34\n",
      "53531   267   269435   13   0.0 1985-02-20 02:50:35     02:50:35\n",
      "53532   267   269436   13   0.0 1985-02-20 02:50:36     02:50:36\n",
      "\n",
      "PRN: 20\n",
      "Head of the group:\n",
      "       week  seconds  prn  C/No            UTC Time 24-hour Time\n",
      "56953   267   272857   20   0.0 1985-02-20 03:47:37     03:47:37\n",
      "56954   267   272858   20   0.0 1985-02-20 03:47:38     03:47:38\n",
      "56955   267   272859   20   0.0 1985-02-20 03:47:39     03:47:39\n",
      "56956   267   272860   20   0.0 1985-02-20 03:47:40     03:47:40\n",
      "56957   267   272861   20   0.0 1985-02-20 03:47:41     03:47:41\n",
      "\n",
      "Tail of the group:\n",
      "       week  seconds  prn  C/No            UTC Time 24-hour Time\n",
      "82178   267   298082   20   0.0 1985-02-20 10:48:02     10:48:02\n",
      "82179   267   298083   20   0.0 1985-02-20 10:48:03     10:48:03\n",
      "82180   267   298084   20   0.0 1985-02-20 10:48:04     10:48:04\n",
      "82181   267   298085   20   0.0 1985-02-20 10:48:05     10:48:05\n",
      "82182   267   298086   20   0.0 1985-02-20 10:48:06     10:48:06\n",
      "\n",
      "PRN: 27\n",
      "Head of the group:\n",
      "       week  seconds  prn  C/No            UTC Time 24-hour Time\n",
      "22543   267   238447   27   0.0 1985-02-19 18:14:07     18:14:07\n",
      "22544   267   238448   27   0.0 1985-02-19 18:14:08     18:14:08\n",
      "22545   267   238449   27   0.0 1985-02-19 18:14:09     18:14:09\n",
      "22546   267   238450   27   0.0 1985-02-19 18:14:10     18:14:10\n",
      "22547   267   238451   27   0.0 1985-02-19 18:14:11     18:14:11\n",
      "\n",
      "Tail of the group:\n",
      "       week  seconds  prn  C/No            UTC Time 24-hour Time\n",
      "42248   267   258152   27   0.0 1985-02-19 23:42:32     23:42:32\n",
      "42249   267   258153   27   0.0 1985-02-19 23:42:33     23:42:33\n",
      "42250   267   258154   27   0.0 1985-02-19 23:42:34     23:42:34\n",
      "42251   267   258155   27   0.0 1985-02-19 23:42:35     23:42:35\n",
      "42252   267   258156   27   0.0 1985-02-19 23:42:36     23:42:36\n",
      "\n",
      "PRN: 32\n",
      "Head of the group:\n",
      "       week  seconds  prn  C/No            UTC Time 24-hour Time\n",
      "83353   267   299257   32   0.0 1985-02-20 11:07:37     11:07:37\n",
      "83354   267   299258   32   0.0 1985-02-20 11:07:38     11:07:38\n",
      "83355   267   299259   32   0.0 1985-02-20 11:07:39     11:07:39\n",
      "83356   267   299260   32   0.0 1985-02-20 11:07:40     11:07:40\n",
      "83357   267   299261   32   0.0 1985-02-20 11:07:41     11:07:41\n",
      "\n",
      "Tail of the group:\n",
      "       week  seconds  prn   C/No            UTC Time 24-hour Time\n",
      "86394   267   302298   32  0.494 1985-02-20 11:58:18     11:58:18\n",
      "86395   267   302299   32  0.341 1985-02-20 11:58:19     11:58:19\n",
      "86396   267   302300   32  0.375 1985-02-20 11:58:20     11:58:20\n",
      "86397   267   302301   32  0.509 1985-02-20 11:58:21     11:58:21\n",
      "86398   267   302302   32  0.561 1985-02-20 11:58:22     11:58:22\n"
     ]
    }
   ],
   "source": [
    "grouped = df.groupby('prn')\n",
    "\n",
    "# Print the head and tail of each group\n",
    "for prn, group in grouped:\n",
    "    print(f\"\\nPRN: {prn}\")\n",
    "    print(\"Head of the group:\")\n",
    "    print(group.head())\n",
    "    print(\"\\nTail of the group:\")\n",
    "    print(group.tail())"
   ]
  },
  {
   "cell_type": "code",
   "execution_count": 6,
   "id": "66252a63-1d2b-400f-b3b1-13131dce1010",
   "metadata": {},
   "outputs": [
    {
     "name": "stdin",
     "output_type": "stream",
     "text": [
      "Enter a PRN to plot (e.g., 32):  6\n"
     ]
    },
    {
     "name": "stdout",
     "output_type": "stream",
     "text": [
      "PRN 6 not found in the dataset.\n"
     ]
    }
   ],
   "source": [
    "# Ask user to input a specific PRN\n",
    "import plotly.express as px\n",
    "import plotly.graph_objects as go\n",
    "specific_prn = int(input(\"Enter a PRN to plot (e.g., 32): \"))\n",
    "\n",
    "# Plot d/u values against 24-hour time for the specific PRN\n",
    "if specific_prn in grouped.groups:\n",
    "    group = grouped.get_group(specific_prn)\n",
    "    fig = px.line(group, x='24-hour Time', y='C/N0', title=f'd/u values for PRN {specific_prn}')\n",
    "    fig.update_layout(\n",
    "        xaxis_title='Time (24-hour format)',\n",
    "        yaxis_title='C/N0',\n",
    "        xaxis_tickformat='%H:%M:%S'\n",
    "    )\n",
    "    fig.show()\n",
    "else:\n",
    "    print(f\"PRN {specific_prn} not found in the dataset.\")\n"
   ]
  },
  {
   "cell_type": "code",
   "execution_count": null,
   "id": "c3da8648-1329-437a-99be-33288efc6462",
   "metadata": {},
   "outputs": [],
   "source": []
  }
 ],
 "metadata": {
  "kernelspec": {
   "display_name": "Python 3 (ipykernel)",
   "language": "python",
   "name": "python3"
  },
  "language_info": {
   "codemirror_mode": {
    "name": "ipython",
    "version": 3
   },
   "file_extension": ".py",
   "mimetype": "text/x-python",
   "name": "python",
   "nbconvert_exporter": "python",
   "pygments_lexer": "ipython3",
   "version": "3.12.4"
  }
 },
 "nbformat": 4,
 "nbformat_minor": 5
}
