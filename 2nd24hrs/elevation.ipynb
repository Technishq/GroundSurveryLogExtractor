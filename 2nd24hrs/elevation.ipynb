{
 "cells": [
  {
   "cell_type": "code",
   "execution_count": 1,
   "id": "de4391b2-25c9-4968-b750-8b1ad1cdf0f0",
   "metadata": {},
   "outputs": [
    {
     "name": "stdout",
     "output_type": "stream",
     "text": [
      "Head of the file:\n",
      "   week  seconds  prn  elevation\n",
      "0   260   287020    6      57.79\n",
      "1   260   287020    6      57.79\n",
      "2   260   287021    6      57.78\n",
      "3   260   287022    6      57.77\n",
      "4   260   287023    6      57.76\n",
      "\n",
      "Tail of the file:\n",
      "       week  seconds  prn  elevation\n",
      "86406   260   373420   19      29.62\n",
      "86407   260   373421   19      29.62\n",
      "86408   260   373422   19      29.62\n",
      "86409   260   373423   19      29.61\n",
      "86410   260   373424   19      29.61\n"
     ]
    }
   ],
   "source": [
    "import pandas as pd\n",
    "\n",
    "# Load the CSV file\n",
    "csv_file = '2nd24hrs_sata_data.csv'\n",
    "df = pd.read_csv(csv_file)\n",
    "\n",
    "# Print the first few rows\n",
    "print(\"Head of the file:\")\n",
    "print(df.head())\n",
    "\n",
    "# Print the last few rows\n",
    "print(\"\\nTail of the file:\")\n",
    "print(df.tail())\n"
   ]
  },
  {
   "cell_type": "code",
   "execution_count": 2,
   "id": "f1d8d7a5-be03-44e1-b755-f61f84108deb",
   "metadata": {},
   "outputs": [],
   "source": [
    "# Drop all columns except the specified ones\n",
    "columns_to_keep = ['week', 'seconds', 'prn', 'elevation']\n",
    "df = df[columns_to_keep]\n",
    "df = df[df['seconds'] >= 0]\n"
   ]
  },
  {
   "cell_type": "code",
   "execution_count": 4,
   "id": "cb5b368f-376c-449a-b066-d704c9a0b4e5",
   "metadata": {},
   "outputs": [
    {
     "name": "stdout",
     "output_type": "stream",
     "text": [
      "Head of the file with 24-hour time format:\n",
      "   week  seconds  prn  elevation            UTC Time 24-hour Time\n",
      "0   260   287020    6      57.79 1985-01-02 07:43:40     07:43:40\n",
      "1   260   287020    6      57.79 1985-01-02 07:43:40     07:43:40\n",
      "2   260   287021    6      57.78 1985-01-02 07:43:41     07:43:41\n",
      "3   260   287022    6      57.77 1985-01-02 07:43:42     07:43:42\n",
      "4   260   287023    6      57.76 1985-01-02 07:43:43     07:43:43\n"
     ]
    }
   ],
   "source": [
    "from datetime import datetime, timedelta\n",
    "\n",
    "# Define the GPS epoch\n",
    "GPS_EPOCH = datetime(1980, 1, 6)\n",
    "\n",
    "def gps_to_utc(week, seconds):\n",
    "    # Calculate the GPS time\n",
    "    gps_time = GPS_EPOCH + timedelta(weeks=week, seconds=seconds)\n",
    "    return gps_time\n",
    "\n",
    "# Apply the conversion to the DataFrame\n",
    "df['UTC Time'] = df.apply(lambda row: gps_to_utc(row['week'], row['seconds']), axis=1)\n",
    "\n",
    "# Convert 'UTC Time' to a 24-hour time format\n",
    "df['24-hour Time'] = df['UTC Time'].dt.strftime('%H:%M:%S')\n",
    "\n",
    "# Print the first few rows to verify\n",
    "print(\"Head of the file with 24-hour time format:\")\n",
    "print(df.head())\n"
   ]
  },
  {
   "cell_type": "code",
   "execution_count": 6,
   "id": "b4bd110b-23c8-47e9-974d-f65ea2d7ae71",
   "metadata": {},
   "outputs": [
    {
     "data": {
      "text/html": [
       "<iframe\n",
       "    scrolling=\"no\"\n",
       "    width=\"100%\"\n",
       "    height=\"545px\"\n",
       "    src=\"iframe_figures/figure_6.html\"\n",
       "    frameborder=\"0\"\n",
       "    allowfullscreen\n",
       "></iframe>\n"
      ]
     },
     "metadata": {},
     "output_type": "display_data"
    }
   ],
   "source": [
    "import plotly.io as pio\n",
    "pio.renderers.default = \"iframe\"\n",
    "# Ask user to input a specific PRN\n",
    "import plotly.express as px\n",
    "import plotly.graph_objects as go\n",
    "# Plot d/u values against 24-hour time for all PRNs together\n",
    "fig = go.Figure()\n",
    "\n",
    "# Add traces for each PRN\n",
    "for prn in df['prn'].unique():\n",
    "    group = df[df['prn'] == prn]\n",
    "    fig.add_trace(go.Scatter(x=group['24-hour Time'], y=group['elevation'], mode='lines', name=f'PRN {prn}'))\n",
    "\n",
    "# Update layout\n",
    "fig.update_layout(\n",
    "    title='d/u values for all PRNs',\n",
    "    xaxis_title='Time (24-hour format)',\n",
    "    yaxis_title='Elevation',\n",
    "    xaxis_tickformat='%H:%M:%S'\n",
    ")\n",
    "\n",
    "# Show the figure\n",
    "fig.show()\n"
   ]
  },
  {
   "cell_type": "code",
   "execution_count": 7,
   "id": "898162bf-335b-4a90-a8a8-f6a9de81814b",
   "metadata": {},
   "outputs": [
    {
     "name": "stdout",
     "output_type": "stream",
     "text": [
      "\n",
      "PRN: 3\n",
      "Head of the group:\n",
      "       week  seconds  prn  elevation            UTC Time 24-hour Time\n",
      "43541   260   330557    3        0.0 1985-01-02 19:49:17     19:49:17\n",
      "43542   260   330558    3        0.0 1985-01-02 19:49:18     19:49:18\n",
      "43543   260   330559    3        0.0 1985-01-02 19:49:19     19:49:19\n",
      "43544   260   330560    3        0.0 1985-01-02 19:49:20     19:49:20\n",
      "43545   260   330561    3        0.0 1985-01-02 19:49:21     19:49:21\n",
      "\n",
      "Tail of the group:\n",
      "       week  seconds  prn  elevation            UTC Time 24-hour Time\n",
      "64212   260   351227    3       7.54 1985-01-03 01:33:47     01:33:47\n",
      "64213   260   351228    3       7.54 1985-01-03 01:33:48     01:33:48\n",
      "64214   260   351229    3       7.53 1985-01-03 01:33:49     01:33:49\n",
      "64215   260   351230    3       7.53 1985-01-03 01:33:50     01:33:50\n",
      "64216   260   351231    3       7.52 1985-01-03 01:33:51     01:33:51\n",
      "\n",
      "PRN: 6\n",
      "Head of the group:\n",
      "   week  seconds  prn  elevation            UTC Time 24-hour Time\n",
      "0   260   287020    6      57.79 1985-01-02 07:43:40     07:43:40\n",
      "1   260   287020    6      57.79 1985-01-02 07:43:40     07:43:40\n",
      "2   260   287021    6      57.78 1985-01-02 07:43:41     07:43:41\n",
      "3   260   287022    6      57.77 1985-01-02 07:43:42     07:43:42\n",
      "4   260   287023    6      57.76 1985-01-02 07:43:43     07:43:43\n",
      "\n",
      "Tail of the group:\n",
      "      week  seconds  prn  elevation            UTC Time 24-hour Time\n",
      "8989   260   296008    6       2.31 1985-01-02 10:13:28     10:13:28\n",
      "8990   260   296009    6       2.30 1985-01-02 10:13:29     10:13:29\n",
      "8991   260   296010    6       2.30 1985-01-02 10:13:30     10:13:30\n",
      "8992   260   296011    6       2.30 1985-01-02 10:13:31     10:13:31\n",
      "8993   260   296012    6       2.29 1985-01-02 10:13:32     10:13:32\n",
      "\n",
      "PRN: 8\n",
      "Head of the group:\n",
      "       week  seconds  prn  elevation            UTC Time 24-hour Time\n",
      "43414   260   330430    8       4.65 1985-01-02 19:47:10     19:47:10\n",
      "43415   260   330431    8       4.65 1985-01-02 19:47:11     19:47:11\n",
      "43416   260   330432    8       4.65 1985-01-02 19:47:12     19:47:12\n",
      "43417   260   330433    8       4.65 1985-01-02 19:47:13     19:47:13\n",
      "43418   260   330434    8       4.65 1985-01-02 19:47:14     19:47:14\n",
      "\n",
      "Tail of the group:\n",
      "       week  seconds  prn  elevation            UTC Time 24-hour Time\n",
      "66436   260   353451    8      33.28 1985-01-03 02:10:51     02:10:51\n",
      "66437   260   353452    8      33.27 1985-01-03 02:10:52     02:10:52\n",
      "66438   260   353453    8      33.26 1985-01-03 02:10:53     02:10:53\n",
      "66439   260   353454    8      33.26 1985-01-03 02:10:54     02:10:54\n",
      "66440   260   353455    8      33.25 1985-01-03 02:10:55     02:10:55\n",
      "\n",
      "PRN: 15\n",
      "Head of the group:\n",
      "      week  seconds  prn  elevation            UTC Time 24-hour Time\n",
      "8994   260   296013   15      14.49 1985-01-02 10:13:33     10:13:33\n",
      "8995   260   296014   15      14.49 1985-01-02 10:13:34     10:13:34\n",
      "8996   260   296015   15      14.50 1985-01-02 10:13:35     10:13:35\n",
      "8997   260   296016   15      14.50 1985-01-02 10:13:36     10:13:36\n",
      "8998   260   296017   15      14.50 1985-01-02 10:13:37     10:13:37\n",
      "\n",
      "Tail of the group:\n",
      "       week  seconds  prn  elevation            UTC Time 24-hour Time\n",
      "11405   260   298424   15      25.91 1985-01-02 10:53:44     10:53:44\n",
      "11497   260   298516   15      26.40 1985-01-02 10:55:16     10:55:16\n",
      "11498   260   298517   15      26.41 1985-01-02 10:55:17     10:55:17\n",
      "11499   260   298518   15      26.41 1985-01-02 10:55:18     10:55:18\n",
      "11500   260   298519   15      26.42 1985-01-02 10:55:19     10:55:19\n",
      "\n",
      "PRN: 19\n",
      "Head of the group:\n",
      "       week  seconds  prn  elevation            UTC Time 24-hour Time\n",
      "66441   260   353456   19        0.0 1985-01-03 02:10:56     02:10:56\n",
      "66442   260   353457   19        0.0 1985-01-03 02:10:57     02:10:57\n",
      "66443   260   353458   19        0.0 1985-01-03 02:10:58     02:10:58\n",
      "66444   260   353459   19        0.0 1985-01-03 02:10:59     02:10:59\n",
      "66445   260   353460   19        0.0 1985-01-03 02:11:00     02:11:00\n",
      "\n",
      "Tail of the group:\n",
      "       week  seconds  prn  elevation            UTC Time 24-hour Time\n",
      "86406   260   373420   19      29.62 1985-01-03 07:43:40     07:43:40\n",
      "86407   260   373421   19      29.62 1985-01-03 07:43:41     07:43:41\n",
      "86408   260   373422   19      29.62 1985-01-03 07:43:42     07:43:42\n",
      "86409   260   373423   19      29.61 1985-01-03 07:43:43     07:43:43\n",
      "86410   260   373424   19      29.61 1985-01-03 07:43:44     07:43:44\n",
      "\n",
      "PRN: 23\n",
      "Head of the group:\n",
      "       week  seconds  prn  elevation            UTC Time 24-hour Time\n",
      "11406   260   298425   23        0.0 1985-01-02 10:53:45     10:53:45\n",
      "11407   260   298426   23        0.0 1985-01-02 10:53:46     10:53:46\n",
      "11408   260   298427   23        0.0 1985-01-02 10:53:47     10:53:47\n",
      "11409   260   298428   23        0.0 1985-01-02 10:53:48     10:53:48\n",
      "11410   260   298429   23        0.0 1985-01-02 10:53:49     10:53:49\n",
      "\n",
      "Tail of the group:\n",
      "       week  seconds  prn  elevation            UTC Time 24-hour Time\n",
      "43409   260   330425   23       5.47 1985-01-02 19:47:05     19:47:05\n",
      "43410   260   330426   23       5.46 1985-01-02 19:47:06     19:47:06\n",
      "43411   260   330427   23       5.46 1985-01-02 19:47:07     19:47:07\n",
      "43412   260   330428   23       5.45 1985-01-02 19:47:08     19:47:08\n",
      "43413   260   330429   23       5.45 1985-01-02 19:47:09     19:47:09\n"
     ]
    }
   ],
   "source": [
    "grouped = df.groupby('prn')\n",
    "\n",
    "# Print the head and tail of each group\n",
    "for prn, group in grouped:\n",
    "    print(f\"\\nPRN: {prn}\")\n",
    "    print(\"Head of the group:\")\n",
    "    print(group.head())\n",
    "    print(\"\\nTail of the group:\")\n",
    "    print(group.tail())"
   ]
  },
  {
   "cell_type": "code",
   "execution_count": 8,
   "id": "d59bbd84-7634-4429-b538-e44eaec1c986",
   "metadata": {},
   "outputs": [
    {
     "name": "stdin",
     "output_type": "stream",
     "text": [
      "Enter a PRN to plot (e.g., 32):  6\n"
     ]
    },
    {
     "data": {
      "text/html": [
       "<iframe\n",
       "    scrolling=\"no\"\n",
       "    width=\"100%\"\n",
       "    height=\"545px\"\n",
       "    src=\"iframe_figures/figure_8.html\"\n",
       "    frameborder=\"0\"\n",
       "    allowfullscreen\n",
       "></iframe>\n"
      ]
     },
     "metadata": {},
     "output_type": "display_data"
    }
   ],
   "source": [
    "# Ask user to input a specific PRN\n",
    "import plotly.express as px\n",
    "import plotly.graph_objects as go\n",
    "specific_prn = int(input(\"Enter a PRN to plot (e.g., 32): \"))\n",
    "\n",
    "# Plot d/u values against 24-hour time for the specific PRN\n",
    "if specific_prn in grouped.groups:\n",
    "    group = grouped.get_group(specific_prn)\n",
    "    fig = px.line(group, x='24-hour Time', y='elevation', title=f'd/u values for PRN {specific_prn}')\n",
    "    fig.update_layout(\n",
    "        xaxis_title='Time (24-hour format)',\n",
    "        yaxis_title='Elevation',\n",
    "        xaxis_tickformat='%H:%M:%S'\n",
    "    )\n",
    "    fig.show()\n",
    "else:\n",
    "    print(f\"PRN {specific_prn} not found in the dataset.\")\n"
   ]
  },
  {
   "cell_type": "code",
   "execution_count": null,
   "id": "e273c89b-c81c-40a9-8fc7-bf6509cf6b95",
   "metadata": {},
   "outputs": [],
   "source": []
  }
 ],
 "metadata": {
  "kernelspec": {
   "display_name": "Python 3 (ipykernel)",
   "language": "python",
   "name": "python3"
  },
  "language_info": {
   "codemirror_mode": {
    "name": "ipython",
    "version": 3
   },
   "file_extension": ".py",
   "mimetype": "text/x-python",
   "name": "python",
   "nbconvert_exporter": "python",
   "pygments_lexer": "ipython3",
   "version": "3.12.4"
  }
 },
 "nbformat": 4,
 "nbformat_minor": 5
}
